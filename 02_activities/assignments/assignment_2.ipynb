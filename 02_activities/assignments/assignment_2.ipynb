{
  "cells": [
    {
      "cell_type": "markdown",
      "metadata": {
        "id": "view-in-github",
        "colab_type": "text"
      },
      "source": [
        "<a href=\"https://colab.research.google.com/github/sijiao-liu/deep_learning/blob/assignment-2/02_activities/assignments/assignment_2.ipynb\" target=\"_parent\"><img src=\"https://colab.research.google.com/assets/colab-badge.svg\" alt=\"Open In Colab\"/></a>"
      ]
    },
    {
      "cell_type": "markdown",
      "id": "7c6788aef474ca12",
      "metadata": {
        "collapsed": false,
        "id": "7c6788aef474ca12"
      },
      "source": [
        "# Text Generation with Recurrent Neural Networks (RNNs)\n",
        "\n",
        "In this assignment, you'll build upon your understanding of RNNs and Keras to develop a word-level text generation model.  Your goal is to train a model that learns the stylistic nuances of a chosen corpus and generates new, original text segments that echo the source material's essence.\n",
        "\n",
        "**Datasets**\n",
        "\n",
        "We've provided several intriguing text corpora to get you started:\n",
        "\n",
        "*   Mark Twain\n",
        "*   Charles Dickens\n",
        "*   William Shakespeare\n",
        "\n",
        "**Feel free to explore!**  If you have a particular passion for another author, genre, or a specific text, you're encouraged to use your own dataset of raw text."
      ]
    },
    {
      "cell_type": "code",
      "execution_count": 1,
      "id": "2d0bfedcfe52aedc",
      "metadata": {
        "colab": {
          "base_uri": "https://localhost:8080/"
        },
        "id": "2d0bfedcfe52aedc",
        "outputId": "4380edd3-4d19-4b9f-9226-692fe5a86574"
      },
      "outputs": [
        {
          "output_type": "stream",
          "name": "stdout",
          "text": [
            "Default GPU Device: /device:GPU:0\n"
          ]
        }
      ],
      "source": [
        "# Check if we have a GPU available\n",
        "import tensorflow as tf\n",
        "if tf.test.gpu_device_name():\n",
        "    print('Default GPU Device: {}'.format(tf.test.gpu_device_name()))\n",
        "else:\n",
        "    print(\"No GPU available. If you're on Colab, go to Runtime > Change runtime and select a GPU hardware accelerator.\")"
      ]
    },
    {
      "cell_type": "code",
      "execution_count": 2,
      "id": "9c28c497f620b775",
      "metadata": {
        "ExecuteTime": {
          "end_time": "2024-02-08T21:30:44.959803Z",
          "start_time": "2024-02-08T21:30:44.701343Z"
        },
        "id": "9c28c497f620b775"
      },
      "outputs": [],
      "source": [
        "def download_file(url, file_path):\n",
        "    import requests\n",
        "    r = requests.get(url)\n",
        "    with open(file_path, 'wb') as f:\n",
        "        f.write(r.content)\n",
        "\n",
        "def load_dataset(file_path, fraction=1.0):\n",
        "    with open(file_path, 'r', encoding='utf-8') as f:\n",
        "        raw_text = f.read()\n",
        "    return raw_text[:int(fraction * len(raw_text))]\n",
        "\n",
        "dataset = 'shakespeare.txt' # Other options are mark_twain.txt, charles_dickens.txt\n",
        "\n",
        "download_file(f'https://github.com/UofT-DSI/deep_learning/raw/main/assignments/downloaded_books/' + dataset, dataset)\n",
        "\n",
        "# Load chosen dataset. NOTE: If Colab is running out of memory, change the `fraction` parameter to a value between 0 and 1 to load less data.\n",
        "text = load_dataset(dataset, fraction=0.1)"
      ]
    },
    {
      "cell_type": "markdown",
      "id": "dab51c764031e606",
      "metadata": {
        "collapsed": false,
        "id": "dab51c764031e606"
      },
      "source": [
        "# 1. Data Preparation (Complete or Incomplete)\n",
        "\n",
        "Before we can begin training an RNN model, we need to prepare the dataset. This involves cleaning the text, tokenizing words, and creating sequences the model can be trained on.\n",
        "\n",
        "## 1.1 Data Exploration\n",
        "\n",
        "Print the first 1000 characters of the dataset. Report the dataset's size and the number of unique characters it contains."
      ]
    },
    {
      "cell_type": "code",
      "source": [
        "import requests\n",
        "\n",
        "# URL of the raw text file\n",
        "url = \"https://raw.githubusercontent.com/sijiao-liu/deep_learning/assignment-2/02_activities/assignments/downloaded_books/charles_dickens.txt\"\n",
        "\n",
        "# Fetch the data\n",
        "response = requests.get(url)\n"
      ],
      "metadata": {
        "id": "PdoIuI5Gg6CH"
      },
      "id": "PdoIuI5Gg6CH",
      "execution_count": 2,
      "outputs": []
    },
    {
      "cell_type": "code",
      "source": [
        "# Check if the request was successful\n",
        "if response.status_code == 200:\n",
        "    text = response.text  # Get the content of the file\n",
        "    print(\"First 1000 characters of the dataset:\\n\")\n",
        "    print(text[:1000])\n",
        "\n",
        "    # Report the dataset size\n",
        "    dataset_size = len(text)\n",
        "    print(\"\\nDataset size (number of characters):\", dataset_size)\n",
        "\n",
        "    # Report the number of unique characters in the dataset\n",
        "    unique_characters = len(set(text))\n",
        "    print(\"Number of unique characters:\", unique_characters)\n",
        "else:\n",
        "    print(f\"Failed to fetch the file. HTTP Status Code: {response.status_code}\")"
      ],
      "metadata": {
        "colab": {
          "base_uri": "https://localhost:8080/"
        },
        "id": "hMCb1592g9HO",
        "outputId": "5a1c5549-8c1b-468f-a6ee-5025a283a257"
      },
      "id": "hMCb1592g9HO",
      "execution_count": 3,
      "outputs": [
        {
          "output_type": "stream",
          "name": "stdout",
          "text": [
            "First 1000 characters of the dataset:\n",
            "\n",
            "The Project Gutenberg eBook of A Tale of Two Cities, by Charles Dickens\r\n",
            "\r\n",
            "This eBook is for the use of anyone anywhere in the United States and\r\n",
            "most other parts of the world at no cost and with almost no restrictions\r\n",
            "whatsoever. You may copy it, give it away or re-use it under the terms\r\n",
            "of the Project Gutenberg License included with this eBook or online at\r\n",
            "www.gutenberg.org. If you are not located in the United States, you\r\n",
            "will have to check the laws of the country where you are located before\r\n",
            "using this eBook.\r\n",
            "\r\n",
            "Title: A Tale of Two Cities\r\n",
            "       A Story of the French Revolution\r\n",
            "\r\n",
            "Author: Charles Dickens\r\n",
            "\r\n",
            "Release Date: January, 1994 [eBook #98]\r\n",
            "[Most recently updated: December 20, 2020]\r\n",
            "\r\n",
            "Language: English\r\n",
            "\r\n",
            "Character set encoding: UTF-8\r\n",
            "\r\n",
            "Produced by: Judith Boss and David Widger\r\n",
            "\r\n",
            "*** START OF THE PROJECT GUTENBERG EBOOK A TALE OF TWO CITIES ***\r\n",
            "\r\n",
            "\r\n",
            "\r\n",
            "\r\n",
            "A TALE OF TWO CITIES\r\n",
            "\r\n",
            "A STORY OF THE FRENCH REVOLUTION\r\n",
            "\r\n",
            "By Charles Dickens\r\n",
            "\r\n",
            "\r\n",
            "CONTENTS\r\n",
            "\r\n",
            "\r\n",
            "     Book the F\n",
            "\n",
            "Dataset size (number of characters): 22076930\n",
            "Number of unique characters: 155\n"
          ]
        }
      ]
    },
    {
      "cell_type": "markdown",
      "id": "3ae1639f5ecfe587",
      "metadata": {
        "collapsed": false,
        "id": "3ae1639f5ecfe587"
      },
      "source": [
        "## 1.2 Text Pre-Processing\n",
        "\n",
        "To prepare the dataset for training, we need to clean the text and create a numerical representation the model can interpret. Perform the following pre-processing steps:\n",
        "\n",
        "*   Convert the entire text to lowercase.\n",
        "*   Use the `Tokenizer` class from the `keras.preprocessing.text` module to tokenize the text. You should fit the tokenizer on the text and then convert the text to a sequence of numbers. You can use the `texts_to_sequences` method to do this.\n",
        "\n",
        "**Note**:\n",
        "* You'll need to specify an appropriate size for the vocabulary. The number of words in the list of most common words can serve as a guide - does it seem like a reasonable vocabulary size?\n",
        "* Some of the words will be excluded from the vocabulary, as they don't appear often enough. It's important to provide a value for `oov_token` when creating the Tokenizer instance, so that these words can be represented as \"unknown\"."
      ]
    },
    {
      "cell_type": "code",
      "source": [
        "from tensorflow.keras.preprocessing.text import Tokenizer\n",
        "\n",
        "# Define constants\n",
        "VOCAB_SIZE = 1000  # Specify an appropriate vocabulary size based on your dataset\n",
        "OOV_TOKEN = \"<OOV>\"  # Token for out-of-vocabulary words\n",
        "\n",
        "# 1. Convert the text to lowercase\n",
        "text = text.lower()\n",
        "\n",
        "# 2. Initialize and fit the tokenizer\n",
        "tokenizer = Tokenizer(num_words=VOCAB_SIZE, oov_token=OOV_TOKEN)\n",
        "tokenizer.fit_on_texts([text])  # Fit tokenizer on the text\n",
        "\n",
        "# 3. Convert text to a sequence of numbers\n",
        "sequences = tokenizer.texts_to_sequences([text])\n"
      ],
      "metadata": {
        "id": "EnwVOG42huzE"
      },
      "id": "EnwVOG42huzE",
      "execution_count": 4,
      "outputs": []
    },
    {
      "cell_type": "markdown",
      "id": "89d32bb9356f711",
      "metadata": {
        "collapsed": false,
        "id": "89d32bb9356f711"
      },
      "source": [
        "If everything worked, the following line should show you the first 10 words in the vocabulary:"
      ]
    },
    {
      "cell_type": "code",
      "execution_count": 5,
      "id": "6a7cd547a19feece",
      "metadata": {
        "colab": {
          "base_uri": "https://localhost:8080/"
        },
        "id": "6a7cd547a19feece",
        "outputId": "f5ac602f-c9e3-4ff6-f77f-f1ae147d630a"
      },
      "outputs": [
        {
          "output_type": "stream",
          "name": "stdout",
          "text": [
            "[('<OOV>', 1), ('the', 2), ('\\r', 3), ('and', 4), ('of', 5), ('to', 6), ('a', 7), ('in', 8), ('that', 9), ('his', 10)]\n"
          ]
        }
      ],
      "source": [
        "try:\n",
        "    print(list(tokenizer.word_index.items())[:10])\n",
        "except AttributeError:\n",
        "    print(\"Tokenizer has not been initialized. Possible issue: Complete the relevant section of the assignment to initialize it.\"\n",
        ")\n"
      ]
    },
    {
      "cell_type": "markdown",
      "id": "da504e4bc6617613",
      "metadata": {
        "collapsed": false,
        "id": "da504e4bc6617613"
      },
      "source": [
        "## 1.3 Sequence Generation\n",
        "\n",
        "Now that the text has been tokenized, we need to create sequences the model can be trained on. There are two parts to this:\n",
        "\n",
        "*   Use the `texts_to_sequences` method from the tokenizer to convert the text to a list of sequences of numbers.\n",
        "*   Generate the training sequences. Each training sequence should contain `SEQ_LENGTH` token IDs from the text. The target token for each sequence should be the word that follows the sequence in the text."
      ]
    },
    {
      "cell_type": "code",
      "source": [
        "from tensorflow.keras.utils import to_categorical\n",
        "import numpy as np\n",
        "\n",
        "# Adjustments for SEQ_LENGTH and batch processing\n",
        "SEQ_LENGTH = 10  # Reduced sequence length to save memory\n",
        "BATCH_SIZE = 32  # Batch size for generator\n",
        "\n",
        "def sequence_generator(sequences, seq_length, batch_size):\n",
        "    \"\"\"Generate training sequences and one-hot encoded targets in batches.\"\"\"\n",
        "    while True:\n",
        "        for i in range(0, len(sequences) - seq_length, batch_size):\n",
        "            X = []\n",
        "            y = []\n",
        "            for j in range(batch_size):\n",
        "                if i + j + seq_length < len(sequences):\n",
        "                    seq = sequences[i + j:i + j + seq_length]\n",
        "                    target = sequences[i + j + seq_length]\n",
        "                    X.append(seq)\n",
        "                    y.append(target)\n",
        "            X = np.array(X)\n",
        "            y = np.array(y)\n",
        "            y = to_categorical(y, num_classes=VOCAB_SIZE)  # One-hot encode the targets\n",
        "            yield X, y\n",
        "\n",
        "\n",
        "# Convert text to sequences\n",
        "sequences = tokenizer.texts_to_sequences([text])[0]\n",
        "\n",
        "# Generate training and validation data using generator\n",
        "train_gen = sequence_generator(sequences, SEQ_LENGTH, BATCH_SIZE)\n"
      ],
      "metadata": {
        "id": "JGDAxYKznX4H"
      },
      "id": "JGDAxYKznX4H",
      "execution_count": 14,
      "outputs": []
    },
    {
      "cell_type": "markdown",
      "id": "3b6bdc0deb930df1",
      "metadata": {
        "collapsed": false,
        "id": "3b6bdc0deb930df1"
      },
      "source": [
        "Assuming your sequences are stored in `X` and the corresponding targets in `y`, the following line should print the first training sequence and its target:"
      ]
    },
    {
      "cell_type": "code",
      "source": [
        "# Test generator output\n",
        "X, y = next(train_gen)\n",
        "\n",
        "if len(X) > 0 and len(y) > 0:\n",
        "    # Convert one-hot encoded target back to an integer\n",
        "    target_index = np.argmax(y[0])  # Find the index of the highest value in the one-hot vector\n",
        "\n",
        "    # Print the sequence and its target\n",
        "    print(f'Sequence: {X[0]}')  # Token indices for the sequence\n",
        "    print(f'Target (one-hot): {y[0]}')  # One-hot encoded target\n",
        "    print(f'Translated back to words: {[tokenizer.index_word[i] for i in X[0]]} -> {tokenizer.index_word[target_index]}')\n",
        "else:\n",
        "    print(\"Training sequences have not been generated. Possible issue: Complete the relevant section of the assignment to initialize it.\")\n"
      ],
      "metadata": {
        "colab": {
          "base_uri": "https://localhost:8080/"
        },
        "id": "nvaI2TBroH9b",
        "outputId": "163e7dcd-6ede-444e-e693-8006ffc8819c"
      },
      "id": "nvaI2TBroH9b",
      "execution_count": 16,
      "outputs": [
        {
          "output_type": "stream",
          "name": "stdout",
          "text": [
            "Sequence: [  2 309  20  50   1   4  15 375  50   1]\n",
            "Target (one-hot): [0. 1. 0. 0. 0. 0. 0. 0. 0. 0. 0. 0. 0. 0. 0. 0. 0. 0. 0. 0. 0. 0. 0. 0.\n",
            " 0. 0. 0. 0. 0. 0. 0. 0. 0. 0. 0. 0. 0. 0. 0. 0. 0. 0. 0. 0. 0. 0. 0. 0.\n",
            " 0. 0. 0. 0. 0. 0. 0. 0. 0. 0. 0. 0. 0. 0. 0. 0. 0. 0. 0. 0. 0. 0. 0. 0.\n",
            " 0. 0. 0. 0. 0. 0. 0. 0. 0. 0. 0. 0. 0. 0. 0. 0. 0. 0. 0. 0. 0. 0. 0. 0.\n",
            " 0. 0. 0. 0. 0. 0. 0. 0. 0. 0. 0. 0. 0. 0. 0. 0. 0. 0. 0. 0. 0. 0. 0. 0.\n",
            " 0. 0. 0. 0. 0. 0. 0. 0. 0. 0. 0. 0. 0. 0. 0. 0. 0. 0. 0. 0. 0. 0. 0. 0.\n",
            " 0. 0. 0. 0. 0. 0. 0. 0. 0. 0. 0. 0. 0. 0. 0. 0. 0. 0. 0. 0. 0. 0. 0. 0.\n",
            " 0. 0. 0. 0. 0. 0. 0. 0. 0. 0. 0. 0. 0. 0. 0. 0. 0. 0. 0. 0. 0. 0. 0. 0.\n",
            " 0. 0. 0. 0. 0. 0. 0. 0. 0. 0. 0. 0. 0. 0. 0. 0. 0. 0. 0. 0. 0. 0. 0. 0.\n",
            " 0. 0. 0. 0. 0. 0. 0. 0. 0. 0. 0. 0. 0. 0. 0. 0. 0. 0. 0. 0. 0. 0. 0. 0.\n",
            " 0. 0. 0. 0. 0. 0. 0. 0. 0. 0. 0. 0. 0. 0. 0. 0. 0. 0. 0. 0. 0. 0. 0. 0.\n",
            " 0. 0. 0. 0. 0. 0. 0. 0. 0. 0. 0. 0. 0. 0. 0. 0. 0. 0. 0. 0. 0. 0. 0. 0.\n",
            " 0. 0. 0. 0. 0. 0. 0. 0. 0. 0. 0. 0. 0. 0. 0. 0. 0. 0. 0. 0. 0. 0. 0. 0.\n",
            " 0. 0. 0. 0. 0. 0. 0. 0. 0. 0. 0. 0. 0. 0. 0. 0. 0. 0. 0. 0. 0. 0. 0. 0.\n",
            " 0. 0. 0. 0. 0. 0. 0. 0. 0. 0. 0. 0. 0. 0. 0. 0. 0. 0. 0. 0. 0. 0. 0. 0.\n",
            " 0. 0. 0. 0. 0. 0. 0. 0. 0. 0. 0. 0. 0. 0. 0. 0. 0. 0. 0. 0. 0. 0. 0. 0.\n",
            " 0. 0. 0. 0. 0. 0. 0. 0. 0. 0. 0. 0. 0. 0. 0. 0. 0. 0. 0. 0. 0. 0. 0. 0.\n",
            " 0. 0. 0. 0. 0. 0. 0. 0. 0. 0. 0. 0. 0. 0. 0. 0. 0. 0. 0. 0. 0. 0. 0. 0.\n",
            " 0. 0. 0. 0. 0. 0. 0. 0. 0. 0. 0. 0. 0. 0. 0. 0. 0. 0. 0. 0. 0. 0. 0. 0.\n",
            " 0. 0. 0. 0. 0. 0. 0. 0. 0. 0. 0. 0. 0. 0. 0. 0. 0. 0. 0. 0. 0. 0. 0. 0.\n",
            " 0. 0. 0. 0. 0. 0. 0. 0. 0. 0. 0. 0. 0. 0. 0. 0. 0. 0. 0. 0. 0. 0. 0. 0.\n",
            " 0. 0. 0. 0. 0. 0. 0. 0. 0. 0. 0. 0. 0. 0. 0. 0. 0. 0. 0. 0. 0. 0. 0. 0.\n",
            " 0. 0. 0. 0. 0. 0. 0. 0. 0. 0. 0. 0. 0. 0. 0. 0. 0. 0. 0. 0. 0. 0. 0. 0.\n",
            " 0. 0. 0. 0. 0. 0. 0. 0. 0. 0. 0. 0. 0. 0. 0. 0. 0. 0. 0. 0. 0. 0. 0. 0.\n",
            " 0. 0. 0. 0. 0. 0. 0. 0. 0. 0. 0. 0. 0. 0. 0. 0. 0. 0. 0. 0. 0. 0. 0. 0.\n",
            " 0. 0. 0. 0. 0. 0. 0. 0. 0. 0. 0. 0. 0. 0. 0. 0. 0. 0. 0. 0. 0. 0. 0. 0.\n",
            " 0. 0. 0. 0. 0. 0. 0. 0. 0. 0. 0. 0. 0. 0. 0. 0. 0. 0. 0. 0. 0. 0. 0. 0.\n",
            " 0. 0. 0. 0. 0. 0. 0. 0. 0. 0. 0. 0. 0. 0. 0. 0. 0. 0. 0. 0. 0. 0. 0. 0.\n",
            " 0. 0. 0. 0. 0. 0. 0. 0. 0. 0. 0. 0. 0. 0. 0. 0. 0. 0. 0. 0. 0. 0. 0. 0.\n",
            " 0. 0. 0. 0. 0. 0. 0. 0. 0. 0. 0. 0. 0. 0. 0. 0. 0. 0. 0. 0. 0. 0. 0. 0.\n",
            " 0. 0. 0. 0. 0. 0. 0. 0. 0. 0. 0. 0. 0. 0. 0. 0. 0. 0. 0. 0. 0. 0. 0. 0.\n",
            " 0. 0. 0. 0. 0. 0. 0. 0. 0. 0. 0. 0. 0. 0. 0. 0. 0. 0. 0. 0. 0. 0. 0. 0.\n",
            " 0. 0. 0. 0. 0. 0. 0. 0. 0. 0. 0. 0. 0. 0. 0. 0. 0. 0. 0. 0. 0. 0. 0. 0.\n",
            " 0. 0. 0. 0. 0. 0. 0. 0. 0. 0. 0. 0. 0. 0. 0. 0. 0. 0. 0. 0. 0. 0. 0. 0.\n",
            " 0. 0. 0. 0. 0. 0. 0. 0. 0. 0. 0. 0. 0. 0. 0. 0. 0. 0. 0. 0. 0. 0. 0. 0.\n",
            " 0. 0. 0. 0. 0. 0. 0. 0. 0. 0. 0. 0. 0. 0. 0. 0. 0. 0. 0. 0. 0. 0. 0. 0.\n",
            " 0. 0. 0. 0. 0. 0. 0. 0. 0. 0. 0. 0. 0. 0. 0. 0. 0. 0. 0. 0. 0. 0. 0. 0.\n",
            " 0. 0. 0. 0. 0. 0. 0. 0. 0. 0. 0. 0. 0. 0. 0. 0. 0. 0. 0. 0. 0. 0. 0. 0.\n",
            " 0. 0. 0. 0. 0. 0. 0. 0. 0. 0. 0. 0. 0. 0. 0. 0. 0. 0. 0. 0. 0. 0. 0. 0.\n",
            " 0. 0. 0. 0. 0. 0. 0. 0. 0. 0. 0. 0. 0. 0. 0. 0. 0. 0. 0. 0. 0. 0. 0. 0.\n",
            " 0. 0. 0. 0. 0. 0. 0. 0. 0. 0. 0. 0. 0. 0. 0. 0. 0. 0. 0. 0. 0. 0. 0. 0.\n",
            " 0. 0. 0. 0. 0. 0. 0. 0. 0. 0. 0. 0. 0. 0. 0. 0.]\n",
            "Translated back to words: ['the', 'world', 'at', 'no', '<OOV>', 'and', 'with', 'almost', 'no', '<OOV>'] -> <OOV>\n"
          ]
        }
      ]
    },
    {
      "cell_type": "markdown",
      "id": "d5bb2c55da17aaa0",
      "metadata": {
        "collapsed": false,
        "id": "d5bb2c55da17aaa0"
      },
      "source": [
        "And the following code will transform y into a one-hot encoded matrix, and split everything into training and validation sets:"
      ]
    },
    {
      "cell_type": "code",
      "source": [
        "from sklearn.model_selection import train_test_split\n",
        "import numpy as np\n",
        "\n",
        "# Ensure that tokenizer has been initialized\n",
        "if tokenizer is not None:\n",
        "    # Flatten sequences and create dataset arrays\n",
        "    sequences = tokenizer.texts_to_sequences([text])[0]\n",
        "\n",
        "    # Remove sequences with OOV token\n",
        "    if OOV_TOKEN in tokenizer.word_index:\n",
        "        oov_index = tokenizer.word_index[OOV_TOKEN]\n",
        "        sequences = [token for token in sequences if token != oov_index]\n",
        "\n",
        "    # Generate training data using a generator\n",
        "    def create_training_data(sequences, seq_length):\n",
        "        X, y = [], []\n",
        "        for i in range(seq_length, len(sequences)):\n",
        "            seq = sequences[i - seq_length:i]\n",
        "            target = sequences[i]\n",
        "            X.append(seq)\n",
        "            y.append(target)\n",
        "        return np.array(X), np.array(y)\n",
        "\n",
        "    # Create sequences and targets\n",
        "    X, y = create_training_data(sequences, SEQ_LENGTH)\n",
        "\n",
        "    # One-hot encode the targets\n",
        "    y = to_categorical(y, num_classes=VOCAB_SIZE)\n",
        "\n",
        "    # Split data into training and validation sets\n",
        "    X_train, X_val, y_train, y_val = train_test_split(X, y, test_size=0.2, random_state=42)\n",
        "\n",
        "    print(f'X_train shape: {X_train.shape}')\n",
        "    print(f'y_train shape: {y_train.shape}')\n",
        "else:\n",
        "    print(\"Tokenizer has not been initialized. Please initialize it and load the vocabulary before continuing.\")\n"
      ],
      "metadata": {
        "colab": {
          "base_uri": "https://localhost:8080/"
        },
        "id": "1p1mdtfwoYSZ",
        "outputId": "787422b5-750a-4c66-eb13-9c5650d6cbfa"
      },
      "id": "1p1mdtfwoYSZ",
      "execution_count": 18,
      "outputs": [
        {
          "output_type": "stream",
          "name": "stdout",
          "text": [
            "X_train shape: (2448356, 10)\n",
            "y_train shape: (2448356, 1000)\n"
          ]
        }
      ]
    },
    {
      "cell_type": "markdown",
      "id": "b6e4161897210434",
      "metadata": {
        "collapsed": false,
        "id": "b6e4161897210434"
      },
      "source": [
        "# 2. Model Development (Complete or Incomplete)\n",
        "\n",
        "With the dataset prepared, it's time to develop the RNN model. You'll need to define the architecture of the model, compile it, and prepare it for training.\n",
        "\n",
        "## 2.1 Model Architecture\n",
        "\n",
        "Define the architecture of your RNN model. You can design it however you like, but there are a few features that it's important to include:\n",
        "\n",
        "*   An embedding layer that learns a dense representation of the input tokens. You'll need to specify the input dimension (the size of the vocabulary) and the output dimension (the size of the dense representation). Remember, you can look at the documentation [here](https://keras.io/api/layers/core_layers/embedding/).\n",
        "*   At least one recurrent layer. We have learned how to use LSTM layers in class, but you can use other types of recurrent layers if you prefer. You can find the documentation [here](https://keras.io/api/layers/recurrent_layers/lstm/).\n",
        "*   A dense layer with a softmax activation function. This layer will output a probability distribution over the vocabulary, so that the model can make predictions about the next token."
      ]
    },
    {
      "cell_type": "code",
      "execution_count": 19,
      "id": "9fdfaad93818fc8d",
      "metadata": {
        "colab": {
          "base_uri": "https://localhost:8080/"
        },
        "id": "9fdfaad93818fc8d",
        "outputId": "f27bdf40-041f-40b1-b5b8-8ea58d179e6a"
      },
      "outputs": [
        {
          "output_type": "stream",
          "name": "stdout",
          "text": [
            "Model: \"sequential_1\"\n",
            "_________________________________________________________________\n",
            " Layer (type)                Output Shape              Param #   \n",
            "=================================================================\n",
            " embedding_1 (Embedding)     (None, 10, 100)           100000    \n",
            "                                                                 \n",
            " lstm_1 (LSTM)               (None, 128)               117248    \n",
            "                                                                 \n",
            " dense_1 (Dense)             (None, 1000)              129000    \n",
            "                                                                 \n",
            "=================================================================\n",
            "Total params: 346248 (1.32 MB)\n",
            "Trainable params: 346248 (1.32 MB)\n",
            "Non-trainable params: 0 (0.00 Byte)\n",
            "_________________________________________________________________\n"
          ]
        }
      ],
      "source": [
        "from keras.models import Sequential\n",
        "from keras.layers import Embedding, LSTM, Dense\n",
        "\n",
        "# Define constants\n",
        "EMBEDDING_DIM = 100  # Size of the dense embedding\n",
        "VOCAB_SIZE = 1000  # Must match the vocabulary size used in the tokenizer\n",
        "\n",
        "# Define the model\n",
        "model = Sequential([\n",
        "    Embedding(input_dim=VOCAB_SIZE, output_dim=EMBEDDING_DIM, input_length=SEQ_LENGTH),\n",
        "    LSTM(128, return_sequences=False),  # LSTM layer with 128 units\n",
        "    Dense(VOCAB_SIZE, activation='softmax')  # Output layer with softmax activation\n",
        "])\n",
        "\n",
        "# Check the model summary\n",
        "if len(model.layers) > 0:\n",
        "    model.summary()\n",
        "else:\n",
        "    print(\"No layers have been added to the model. Please complete the assignment by adding the required layers.\")"
      ]
    },
    {
      "cell_type": "markdown",
      "id": "2fafd2dbb0d589fc",
      "metadata": {
        "collapsed": false,
        "id": "2fafd2dbb0d589fc"
      },
      "source": [
        "## 2.2 Model Compilation\n",
        "\n",
        "Compile the model with an appropriate loss function and optimizer. You might also want to track additional metrics, such as accuracy.\n",
        "\n",
        "Give a short explanation of your choice of loss function and optimizer:\n",
        "\n",
        "_your explanation here_"
      ]
    },
    {
      "cell_type": "code",
      "execution_count": 20,
      "id": "ae4ca7a12051b1fd",
      "metadata": {
        "id": "ae4ca7a12051b1fd"
      },
      "outputs": [],
      "source": [
        "from keras.optimizers import Adam\n",
        "\n",
        "# Compile the model\n",
        "model.compile(\n",
        "    loss='categorical_crossentropy',\n",
        "    optimizer=Adam(learning_rate=0.001),\n",
        "    metrics=['accuracy']\n",
        ")\n",
        "\n",
        "# Explanation:\n",
        "# Loss Function: 'categorical_crossentropy' is used because this is a multi-class classification problem where the model predicts a probability distribution over the vocabulary.\n",
        "# Optimizer: Adam is chosen for its efficiency and adaptive learning rates, which typically lead to faster convergence.\n"
      ]
    },
    {
      "cell_type": "markdown",
      "id": "c2f0b90a448c4f4b",
      "metadata": {
        "collapsed": false,
        "id": "c2f0b90a448c4f4b"
      },
      "source": [
        "## 2.3 Model Training\n",
        "\n",
        "Train the model on the training data you've prepared.\n",
        "\n",
        "* Train your model for 5 epochs with a batch size of 128. Use the validation data for validation.\n",
        "* Store the training history in a variable called `history`."
      ]
    },
    {
      "cell_type": "code",
      "execution_count": 21,
      "id": "256b1ea138c67ef7",
      "metadata": {
        "colab": {
          "base_uri": "https://localhost:8080/"
        },
        "id": "256b1ea138c67ef7",
        "outputId": "28498e89-19a6-4bc7-df5e-2612316cb56e"
      },
      "outputs": [
        {
          "output_type": "stream",
          "name": "stdout",
          "text": [
            "Epoch 1/5\n",
            "9563/9563 [==============================] - 108s 11ms/step - loss: 4.6925 - accuracy: 0.1598 - val_loss: 4.8023 - val_accuracy: 0.1498\n",
            "Epoch 2/5\n",
            "9563/9563 [==============================] - 107s 11ms/step - loss: 4.4156 - accuracy: 0.1756 - val_loss: 4.6937 - val_accuracy: 0.1561\n",
            "Epoch 3/5\n",
            "9563/9563 [==============================] - 106s 11ms/step - loss: 4.4342 - accuracy: 0.1745 - val_loss: 4.6940 - val_accuracy: 0.1625\n",
            "Epoch 4/5\n",
            "9563/9563 [==============================] - 107s 11ms/step - loss: 4.3901 - accuracy: 0.1722 - val_loss: 4.5732 - val_accuracy: 0.1587\n",
            "Epoch 5/5\n",
            "9563/9563 [==============================] - 106s 11ms/step - loss: 4.2994 - accuracy: 0.1817 - val_loss: 4.6328 - val_accuracy: 0.1654\n"
          ]
        }
      ],
      "source": [
        "# Create the updated training generator\n",
        "train_gen = sequence_generator(sequences, SEQ_LENGTH, BATCH_SIZE)\n",
        "\n",
        "# Train the model\n",
        "history = model.fit(\n",
        "    train_gen,\n",
        "    steps_per_epoch=len(sequences) // (BATCH_SIZE * SEQ_LENGTH),\n",
        "    epochs=5,\n",
        "    validation_data=sequence_generator(sequences, SEQ_LENGTH, BATCH_SIZE),  # Validation generator\n",
        "    validation_steps=len(sequences) // (10 * BATCH_SIZE * SEQ_LENGTH)  # Reduced steps for validation\n",
        ")\n"
      ]
    },
    {
      "cell_type": "markdown",
      "id": "195c59bf80d2a2c4",
      "metadata": {
        "collapsed": false,
        "id": "195c59bf80d2a2c4"
      },
      "source": [
        "Plot the training history to visualize the model's learning progress. Your plot should include the training and validation loss."
      ]
    },
    {
      "cell_type": "code",
      "execution_count": 22,
      "id": "9e8cacec70d8f313",
      "metadata": {
        "id": "9e8cacec70d8f313",
        "colab": {
          "base_uri": "https://localhost:8080/",
          "height": 472
        },
        "outputId": "5b0240af-90af-4be5-d70e-fddb179a6dea"
      },
      "outputs": [
        {
          "output_type": "display_data",
          "data": {
            "text/plain": [
              "<Figure size 640x480 with 1 Axes>"
            ],
            "image/png": "[encoded data removed]"
          },
          "metadata": {}
        }
      ],
      "source": [
        "import matplotlib.pyplot as plt\n",
        "\n",
        "# Plot training and validation loss\n",
        "plt.plot(history.history['loss'], label='Training Loss')\n",
        "plt.plot(history.history['val_loss'], label='Validation Loss')\n",
        "plt.xlabel('Epochs')\n",
        "plt.ylabel('Loss')\n",
        "plt.legend()\n",
        "plt.title('Training and Validation Loss')\n",
        "plt.show()\n"
      ]
    },
    {
      "cell_type": "markdown",
      "id": "3d9ed71305787aed",
      "metadata": {
        "collapsed": false,
        "id": "3d9ed71305787aed"
      },
      "source": [
        "# 3. Text Generation (Complete or Incomplete)\n",
        "\n",
        "Write a method called `generate_text` that uses the trained model to generate new text. The method should take the following parameters:\n",
        "\n",
        "*   `model`: The trained RNN model.\n",
        "*   `tokenizer`: The tokenizer used to pre-process the text data.\n",
        "*   `seed_text`: The seed text the model will use to generate new text.\n",
        "*   `max_sequence_len`: The maximum length of the sequence used to generate new text.\n",
        "\n",
        "The method should return the generated text.\n",
        "\n",
        "An overview of the text generation process you should follow:\n",
        "\n",
        "1. Tokenize the seed text using the tokenizer we built before.\n",
        "2. Pad the sequences to the same length as the training sequences - you can use the `pad_sequences` method from the `keras.preprocessing.sequence` module, which is documented [here](https://www.tensorflow.org/api_docs/python/tf/keras/preprocessing/sequence/pad_sequences).\n",
        "3. Use the model to predict the next token in the sequence. Remember that the model will output a probability distribution over the vocabulary, so you'll need to use `np.argmax` to find the token with the highest probability.\n",
        "4. Add the predicted token to the sequence and remove the first token.\n",
        "5. Repeat steps 3-4 until you have generated the desired number of tokens.\n",
        "6. Convert the generated token IDs back to words and return the combined result as a single string.\n",
        "\n",
        "This is a challenging task, so don't hesitate to ask for help if you need it. It's okay if the generated text doesn't make much sense yet - we'll work on improving the model next.\n",
        "As a bonus, you can make your method generate \"gpt-style\" by having it print out each word as it's generated, so you can see the text being generated in real time."
      ]
    },
    {
      "cell_type": "code",
      "source": [
        "from keras.preprocessing.sequence import pad_sequences\n",
        "import numpy as np\n",
        "\n",
        "def get_predicted_word(model, sequence, temperature=1.0):\n",
        "    \"\"\"\n",
        "    Get the predicted word from the model using temperature sampling.\n",
        "\n",
        "    Parameters:\n",
        "        model (keras.Model): Trained RNN model.\n",
        "        sequence (numpy.ndarray): Padded sequence input.\n",
        "        temperature (float): Sampling temperature; higher values increase randomness.\n",
        "\n",
        "    Returns:\n",
        "        int: Predicted token index.\n",
        "    \"\"\"\n",
        "    # Predict probabilities for the next token\n",
        "    yhat = model.predict(sequence, verbose=0)\n",
        "    yhat = yhat.ravel()  # Flatten the output\n",
        "\n",
        "    # Apply temperature scaling\n",
        "    yhat = np.log(yhat + 1e-9) / temperature\n",
        "    yhat = np.exp(yhat) / np.sum(np.exp(yhat))\n",
        "\n",
        "    # Sample the next token index\n",
        "    predicted_index = np.random.choice(range(len(yhat)), p=yhat)\n",
        "    return predicted_index\n",
        "\n",
        "\n",
        "def generate_text(model, tokenizer, seed_text, max_sequence_len, num_words=50):\n",
        "    \"\"\"\n",
        "    Generate new text using the trained model.\n",
        "\n",
        "    Parameters:\n",
        "        model (keras.Model): Trained RNN model.\n",
        "        tokenizer (Tokenizer): Tokenizer used for preprocessing.\n",
        "        seed_text (str): Initial text to start generation.\n",
        "        max_sequence_len (int): Maximum sequence length for input to the model.\n",
        "        num_words (int): Number of words to generate.\n",
        "\n",
        "    Returns:\n",
        "        str: Generated text.\n",
        "    \"\"\"\n",
        "    generated_text = seed_text\n",
        "\n",
        "    for _ in range(num_words):\n",
        "        # Tokenize the current seed text\n",
        "        token_list = tokenizer.texts_to_sequences([seed_text])[0]\n",
        "\n",
        "        # Pad sequences to match the max_sequence_len\n",
        "        token_list = pad_sequences([token_list], maxlen=max_sequence_len, padding='pre')\n",
        "\n",
        "        # Predict the next word using the model\n",
        "        predicted_index = get_predicted_word(model, token_list)\n",
        "\n",
        "        # Get the word from the predicted index\n",
        "        predicted_word = tokenizer.index_word.get(predicted_index, \"<OOV>\")\n",
        "\n",
        "        # Append the predicted word to the seed text\n",
        "        seed_text += \" \" + predicted_word\n",
        "        generated_text += \" \" + predicted_word\n",
        "\n",
        "        # Optional: Print generated text in real-time\n",
        "        print(predicted_word, end=\" \", flush=True)\n",
        "\n",
        "    print()  # For newline after real-time printing\n",
        "    return generated_text\n",
        "\n"
      ],
      "metadata": {
        "id": "9Z2uckl8rWwk"
      },
      "id": "9Z2uckl8rWwk",
      "execution_count": 25,
      "outputs": []
    },
    {
      "cell_type": "code",
      "source": [
        "import numpy as np\n",
        "\n",
        "def get_predicted_word(model, sequence, temperature=1.0):\n",
        "    \"\"\"\n",
        "    Get the predicted word from the model using temperature sampling.\n",
        "\n",
        "    Parameters:\n",
        "        model (keras.Model): Trained RNN model.\n",
        "        sequence (numpy.ndarray): Padded sequence input.\n",
        "        temperature (float): Sampling temperature; higher values increase randomness.\n",
        "\n",
        "    Returns:\n",
        "        int: Predicted token index.\n",
        "    \"\"\"\n",
        "    # Predict probabilities for the next token\n",
        "    yhat = model.predict(sequence, verbose=0)\n",
        "    yhat = yhat.ravel()  # Flatten the output\n",
        "\n",
        "    # Apply temperature scaling\n",
        "    yhat = np.log(yhat + 1e-9) / temperature\n",
        "    yhat = np.exp(yhat) / np.sum(np.exp(yhat))\n",
        "\n",
        "    # Sample the next token index\n",
        "    predicted_index = np.random.choice(range(len(yhat)), p=yhat)\n",
        "    return predicted_index"
      ],
      "metadata": {
        "id": "SizomoKOtVgC"
      },
      "id": "SizomoKOtVgC",
      "execution_count": 31,
      "outputs": []
    },
    {
      "cell_type": "code",
      "source": [
        "from keras.preprocessing.sequence import pad_sequences\n",
        "\n",
        "def generate_text(model, tokenizer, seed_text, max_sequence_len, num_words=50):\n",
        "    \"\"\"\n",
        "    Generate new text using the trained model.\n",
        "\n",
        "    Parameters:\n",
        "        model (keras.Model): Trained RNN model.\n",
        "        tokenizer (Tokenizer): Tokenizer used for preprocessing.\n",
        "        seed_text (str): Initial text to start generation.\n",
        "        max_sequence_len (int): Maximum sequence length for input to the model.\n",
        "        num_words (int): Number of words to generate.\n",
        "\n",
        "    Returns:\n",
        "        str: Generated text.\n",
        "    \"\"\"\n",
        "    generated_text = seed_text\n",
        "\n",
        "    for _ in range(num_words):\n",
        "        # Tokenize the current seed text\n",
        "        token_list = tokenizer.texts_to_sequences([seed_text])[0]\n",
        "\n",
        "        # Pad sequences to match the max_sequence_len\n",
        "        token_list = pad_sequences([token_list], maxlen=max_sequence_len, padding='pre')\n",
        "\n",
        "        # Predict the next word using the model\n",
        "        predicted_index = get_predicted_word(model, token_list)\n",
        "\n",
        "        # Get the word from the predicted index\n",
        "        predicted_word = tokenizer.index_word.get(predicted_index, \"<OOV>\")\n",
        "\n",
        "        # Append the predicted word to the seed text\n",
        "        seed_text += \" \" + predicted_word\n",
        "        generated_text += \" \" + predicted_word\n",
        "\n",
        "    return generated_text\n",
        "\n"
      ],
      "metadata": {
        "id": "FvLoZYBdtaVZ"
      },
      "id": "FvLoZYBdtaVZ",
      "execution_count": 32,
      "outputs": []
    },
    {
      "cell_type": "code",
      "source": [
        "# Test the text generation function\n",
        "generated_text = generate_text(model, tokenizer, 'hamlet', SEQ_LENGTH)\n",
        "print(\"\\nGenerated Text:\")\n",
        "print(generated_text)"
      ],
      "metadata": {
        "colab": {
          "base_uri": "https://localhost:8080/"
        },
        "id": "KC4msrEHsdOg",
        "outputId": "129d8da2-e42c-414b-fe21-98aff8483850"
      },
      "id": "KC4msrEHsdOg",
      "execution_count": 33,
      "outputs": [
        {
          "output_type": "stream",
          "name": "stdout",
          "text": [
            "\n",
            "Generated Text:\n",
            "hamlet it\r and left off to the upon the room of the then was\r in every time further with him and \r so very very loud \r \r ‘no ’ said jonas he said his hands ’\r \r mrs a though she could wish to her in her and for her\n"
          ]
        }
      ]
    },
    {
      "cell_type": "markdown",
      "id": "5871d836a0135c41",
      "metadata": {
        "collapsed": false,
        "id": "5871d836a0135c41"
      },
      "source": [
        "It's likely that the text generated by your model doesn't make much sense yet. This is because the model hasn't been trained for very long, and the training dataset is relatively small.\n",
        "\n",
        "# 4. Model Refinement (Complete or Incomplete)\n",
        "\n",
        "In this last section, you'll work on improving your model. There are many ways to do this, but here are a few ideas to get you started:\n",
        "\n",
        "* Use pre-trained embeddings: the code below will help you to load pre-trained embeddings through Keras.\n",
        "* Experiment with different model architectures, including the number of layers, the number of units in each layer, and the use of dropout layers.\n",
        "* Train your model for longer. You can also experiment with different batch sizes.\n",
        "\n",
        "Implement and test out at least one of these ideas. If you have other ideas for improving the model, feel free to try them out as well."
      ]
    },
    {
      "cell_type": "code",
      "execution_count": 34,
      "id": "dda8b0f845c20862",
      "metadata": {
        "colab": {
          "base_uri": "https://localhost:8080/"
        },
        "id": "dda8b0f845c20862",
        "outputId": "11dbd2fc-18e3-4039-f81f-0fb8d3f76a89"
      },
      "outputs": [
        {
          "output_type": "stream",
          "name": "stdout",
          "text": [
            "--2024-12-01 05:34:47--  https://downloads.cs.stanford.edu/nlp/data/glove.6B.zip\n",
            "Resolving downloads.cs.stanford.edu (downloads.cs.stanford.edu)... 171.64.64.22\n",
            "Connecting to downloads.cs.stanford.edu (downloads.cs.stanford.edu)|171.64.64.22|:443... connected.\n",
            "HTTP request sent, awaiting response... 200 OK\n",
            "Length: 862182613 (822M) [application/zip]\n",
            "Saving to: ‘glove.6B.zip’\n",
            "\n",
            "glove.6B.zip        100%[===================>] 822.24M  4.95MB/s    in 2m 40s  \n",
            "\n",
            "2024-12-01 05:37:28 (5.13 MB/s) - ‘glove.6B.zip’ saved [862182613/862182613]\n",
            "\n",
            "Archive:  glove.6B.zip\n",
            "  inflating: glove.6B.50d.txt        \n",
            "  inflating: glove.6B.100d.txt       \n",
            "  inflating: glove.6B.200d.txt       \n",
            "  inflating: glove.6B.300d.txt       \n"
          ]
        }
      ],
      "source": [
        "!wget https://downloads.cs.stanford.edu/nlp/data/glove.6B.zip\n",
        "!unzip glove.6B.zip"
      ]
    },
    {
      "cell_type": "code",
      "execution_count": 35,
      "id": "e8b777220505635",
      "metadata": {
        "colab": {
          "base_uri": "https://localhost:8080/"
        },
        "id": "e8b777220505635",
        "outputId": "6daa6d59-6387-4c94-b061-39fa6569ce00"
      },
      "outputs": [
        {
          "output_type": "stream",
          "name": "stdout",
          "text": [
            "Found 400000 word vectors.\n"
          ]
        }
      ],
      "source": [
        "# Load the pre-trained embeddings\n",
        "embeddings_index = {}\n",
        "try:\n",
        "    with open('glove.6B.100d.txt', encoding='utf-8') as f:\n",
        "        for line in f:\n",
        "            values = line.split()\n",
        "            word = values[0]\n",
        "            coefs = np.asarray(values[1:], dtype='float32')\n",
        "            embeddings_index[word] = coefs\n",
        "    print(f'Found {len(embeddings_index)} word vectors.')\n",
        "except FileNotFoundError:\n",
        "    print(\"'glove.6B.100d.txt' File not found. Please make sure you have ran the previous cell.\")"
      ]
    },
    {
      "cell_type": "code",
      "execution_count": 36,
      "id": "d3e48ff004757cf2",
      "metadata": {
        "id": "d3e48ff004757cf2"
      },
      "outputs": [],
      "source": [
        "# Check if VOCAB_SIZE is set\n",
        "if VOCAB_SIZE is None:\n",
        "    print(\"You need to complete the previous parts of your assignment in order for this to work.\")\n",
        "else:\n",
        "    # Create an embedding matrix\n",
        "    embedding_matrix = np.zeros((VOCAB_SIZE, 100))\n",
        "    for word, i in tokenizer.word_index.items():\n",
        "        if i < VOCAB_SIZE:\n",
        "            embedding_vector = embeddings_index.get(word)\n",
        "            if embedding_vector is not None:\n",
        "                embedding_matrix[i] = embedding_vector"
      ]
    },
    {
      "cell_type": "code",
      "execution_count": 37,
      "id": "e3d21d5dbbbcf9f9",
      "metadata": {
        "id": "e3d21d5dbbbcf9f9"
      },
      "outputs": [],
      "source": [
        "# Check if VOCAB_SIZE is set\n",
        "if VOCAB_SIZE is None:\n",
        "    print(\"You need to complete the previous parts of your assignment in order for this to work.\")\n",
        "else:\n",
        "    embedding_layer = Embedding(\n",
        "        VOCAB_SIZE, 100, weights=[embedding_matrix], input_length=SEQ_LENGTH, trainable=False\n",
        "    )"
      ]
    },
    {
      "cell_type": "code",
      "execution_count": 38,
      "id": "236cb723e4e5b3fc",
      "metadata": {
        "colab": {
          "base_uri": "https://localhost:8080/"
        },
        "id": "236cb723e4e5b3fc",
        "outputId": "0e60c324-b34c-4192-9f36-8331bb464906"
      },
      "outputs": [
        {
          "output_type": "stream",
          "name": "stdout",
          "text": [
            "Model: \"sequential_2\"\n",
            "_________________________________________________________________\n",
            " Layer (type)                Output Shape              Param #   \n",
            "=================================================================\n",
            " embedding_2 (Embedding)     (None, 10, 100)           100000    \n",
            "                                                                 \n",
            " lstm_2 (LSTM)               (None, 10, 128)           117248    \n",
            "                                                                 \n",
            " dropout (Dropout)           (None, 10, 128)           0         \n",
            "                                                                 \n",
            " lstm_3 (LSTM)               (None, 128)               131584    \n",
            "                                                                 \n",
            " dropout_1 (Dropout)         (None, 128)               0         \n",
            "                                                                 \n",
            " dense_2 (Dense)             (None, 1000)              129000    \n",
            "                                                                 \n",
            "=================================================================\n",
            "Total params: 477832 (1.82 MB)\n",
            "Trainable params: 377832 (1.44 MB)\n",
            "Non-trainable params: 100000 (390.62 KB)\n",
            "_________________________________________________________________\n"
          ]
        }
      ],
      "source": [
        "from keras.models import Sequential\n",
        "from keras.layers import LSTM, Dense, Dropout\n",
        "\n",
        "# Define a new model with pre-trained embeddings\n",
        "model = Sequential([\n",
        "    embedding_layer,  # Use the pre-trained embedding layer\n",
        "    LSTM(128, return_sequences=True),  # First LSTM layer with return_sequences=True\n",
        "    Dropout(0.2),  # Dropout for regularization\n",
        "    LSTM(128),  # Second LSTM layer\n",
        "    Dropout(0.2),  # Dropout for regularization\n",
        "    Dense(VOCAB_SIZE, activation='softmax')  # Output layer\n",
        "])\n",
        "\n",
        "# Compile the new model\n",
        "model.compile(\n",
        "    optimizer='adam',  # Adam optimizer\n",
        "    loss='categorical_crossentropy',  # Categorical crossentropy loss\n",
        "    metrics=['accuracy']  # Track accuracy during training\n",
        ")\n",
        "\n",
        "# Print model summary\n",
        "model.summary()\n"
      ]
    },
    {
      "cell_type": "code",
      "source": [
        "# Train the model\n",
        "history = model.fit(\n",
        "    train_gen,  # Use the generator for training\n",
        "    steps_per_epoch=len(sequences) // (BATCH_SIZE * SEQ_LENGTH),\n",
        "    validation_data=sequence_generator(sequences, SEQ_LENGTH, BATCH_SIZE),  # Validation generator\n",
        "    validation_steps=len(sequences) // (10 * BATCH_SIZE * SEQ_LENGTH),\n",
        "    epochs=10,  # Train for more epochs\n",
        "    batch_size=128  # Experiment with different batch sizes\n",
        ")\n"
      ],
      "metadata": {
        "colab": {
          "base_uri": "https://localhost:8080/"
        },
        "id": "7NyJ9jafuwEH",
        "outputId": "ae1d7bb0-7d16-46e6-f6d5-15da2f7f601e"
      },
      "id": "7NyJ9jafuwEH",
      "execution_count": 39,
      "outputs": [
        {
          "output_type": "stream",
          "name": "stdout",
          "text": [
            "Epoch 1/10\n",
            "9563/9563 [==============================] - 193s 20ms/step - loss: 4.9932 - accuracy: 0.1273 - val_loss: 4.9561 - val_accuracy: 0.1371\n",
            "Epoch 2/10\n",
            "9563/9563 [==============================] - 188s 20ms/step - loss: 4.7200 - accuracy: 0.1412 - val_loss: 4.5857 - val_accuracy: 0.1557\n",
            "Epoch 3/10\n",
            "9563/9563 [==============================] - 192s 20ms/step - loss: 4.5942 - accuracy: 0.1539 - val_loss: 4.6630 - val_accuracy: 0.1491\n",
            "Epoch 4/10\n",
            "9563/9563 [==============================] - 190s 20ms/step - loss: 4.5212 - accuracy: 0.1666 - val_loss: 4.4900 - val_accuracy: 0.1622\n",
            "Epoch 5/10\n",
            "9563/9563 [==============================] - 193s 20ms/step - loss: 4.4325 - accuracy: 0.1722 - val_loss: 4.6160 - val_accuracy: 0.1677\n",
            "Epoch 6/10\n",
            "9563/9563 [==============================] - 188s 20ms/step - loss: 4.4560 - accuracy: 0.1748 - val_loss: 4.2765 - val_accuracy: 0.1900\n",
            "Epoch 7/10\n",
            "9563/9563 [==============================] - 188s 20ms/step - loss: 4.5264 - accuracy: 0.1626 - val_loss: 4.5052 - val_accuracy: 0.1746\n",
            "Epoch 8/10\n",
            "9563/9563 [==============================] - 188s 20ms/step - loss: 4.5568 - accuracy: 0.1611 - val_loss: 4.5978 - val_accuracy: 0.1737\n",
            "Epoch 9/10\n",
            "9563/9563 [==============================] - 191s 20ms/step - loss: 4.5386 - accuracy: 0.1563 - val_loss: 4.6567 - val_accuracy: 0.1815\n",
            "Epoch 10/10\n",
            "9563/9563 [==============================] - 188s 20ms/step - loss: 4.5161 - accuracy: 0.1601 - val_loss: 4.6970 - val_accuracy: 0.1733\n"
          ]
        }
      ]
    },
    {
      "cell_type": "code",
      "source": [
        "import matplotlib.pyplot as plt\n",
        "\n",
        "# Plot training and validation loss\n",
        "plt.plot(history.history['loss'], label='Training Loss')\n",
        "plt.plot(history.history['val_loss'], label='Validation Loss')\n",
        "plt.xlabel('Epochs')\n",
        "plt.ylabel('Loss')\n",
        "plt.legend()\n",
        "plt.title('Training and Validation Loss')\n",
        "plt.show()\n",
        "\n",
        "# Plot training and validation accuracy\n",
        "plt.plot(history.history['accuracy'], label='Training Accuracy')\n",
        "plt.plot(history.history['val_accuracy'], label='Validation Accuracy')\n",
        "plt.xlabel('Epochs')\n",
        "plt.ylabel('Accuracy')\n",
        "plt.legend()\n",
        "plt.title('Training and Validation Accuracy')\n",
        "plt.show()\n"
      ],
      "metadata": {
        "colab": {
          "base_uri": "https://localhost:8080/",
          "height": 927
        },
        "id": "fTgyT8Z9uzFw",
        "outputId": "2dceb076-e978-4a9e-9832-932199bdfc1f"
      },
      "id": "fTgyT8Z9uzFw",
      "execution_count": 40,
      "outputs": [
        {
          "output_type": "display_data",
          "data": {
            "text/plain": [
              "<Figure size 640x480 with 1 Axes>"
            ],
            "image/png": "[encoded data removed]"
          },
          "metadata": {}
        },
        {
          "output_type": "display_data",
          "data": {
            "text/plain": [
              "<Figure size 640x480 with 1 Axes>"
            ],
            "image/png": "[encoded data removed]"
          },
          "metadata": {}
        }
      ]
    },
    {
      "cell_type": "code",
      "source": [
        "embedding_layer = Embedding(\n",
        "    VOCAB_SIZE, 100, weights=[embedding_matrix], input_length=SEQ_LENGTH, trainable=True\n",
        ")\n"
      ],
      "metadata": {
        "id": "uifnHscEu8Bx"
      },
      "id": "uifnHscEu8Bx",
      "execution_count": 41,
      "outputs": []
    },
    {
      "cell_type": "code",
      "source": [
        "# Test the text generation with the refined model\n",
        "generated_text = generate_text(model, tokenizer, 'hamlet', SEQ_LENGTH)\n",
        "print(\"\\nGenerated Text:\")\n",
        "print(generated_text)\n"
      ],
      "metadata": {
        "colab": {
          "base_uri": "https://localhost:8080/"
        },
        "id": "ytW1CQ-Wu9Ce",
        "outputId": "af9a3b04-bec8-4313-fd18-021e3d320d5b"
      },
      "id": "ytW1CQ-Wu9Ce",
      "execution_count": 42,
      "outputs": [
        {
          "output_type": "stream",
          "name": "stdout",
          "text": [
            "\n",
            "Generated Text:\n",
            "hamlet mrs with as too struck him in to a\r service he was not to him by the of at once but there that night he said from a house of me and put a right on\r the same in some people to drink to for there he could die who\n"
          ]
        }
      ]
    },
    {
      "cell_type": "markdown",
      "id": "742095fb",
      "metadata": {
        "id": "742095fb"
      },
      "source": [
        "## Criteria\n",
        "\n",
        "|Criteria|Complete|Incomplete|\n",
        "|----|----|----|\n",
        "|Task 1|The task has been completed successfully and there are no errors.|The task is still incomplete and there is at least one error.|\n",
        "|Task 2|The task has been completed successfully and there are no errors.|The task is still incomplete and there is at least one error.|\n",
        "|Task 3|The task has been completed successfully and there are no errors.|The task is still incomplete and there is at least one error.|\n",
        "|Task 4|The task has been completed successfully and there are no errors.|The task is still incomplete and there is at least one error.|"
      ]
    },
    {
      "cell_type": "markdown",
      "id": "1990e2d2",
      "metadata": {
        "id": "1990e2d2"
      },
      "source": [
        "## Submission Information\n",
        "\n",
        "🚨**Please review our [Assignment Submission Guide](https://github.com/UofT-DSI/onboarding/blob/main/onboarding_documents/submissions.md)**🚨 for detailed instructions on how to format, branch, and submit your work. Following these guidelines is crucial for your submissions to be evaluated correctly.\n",
        "\n",
        "### Submission Parameters:\n",
        "* Submission Due Date: `HH:MM AM/PM - DD/MM/YYYY`\n",
        "* The branch name for your repo should be: `assignment-2`\n",
        "* What to submit for this assignment:\n",
        "    * This Jupyter Notebook (assignment_2.ipynb) should be populated and should be the only change in your pull request.\n",
        "* What the pull request link should look like for this assignment: `https://github.com/<your_github_username>/deep_learning/pull/<pr_id>`\n",
        "    * Open a private window in your browser. Copy and paste the link to your pull request into the address bar. Make sure you can see your pull request properly. This helps the technical facilitator and learning support staff review your submission easily.\n",
        "\n",
        "Checklist:\n",
        "- [ ] Created a branch with the correct naming convention.\n",
        "- [ ] Ensured that the repository is public.\n",
        "- [ ] Reviewed the PR description guidelines and adhered to them.\n",
        "- [ ] Verify that the link is accessible in a private browser window.\n",
        "\n",
        "If you encounter any difficulties or have questions, please don't hesitate to reach out to our team via our Slack at `#cohort-3-help`. Our Technical Facilitators and Learning Support staff are here to help you navigate any challenges."
      ]
    }
  ],
  "metadata": {
    "accelerator": "TPU",
    "colab": {
      "gpuType": "V28",
      "provenance": [],
      "machine_shape": "hm",
      "include_colab_link": true
    },
    "kernelspec": {
      "display_name": "Python 3",
      "name": "python3"
    },
    "language_info": {
      "codemirror_mode": {
        "name": "ipython",
        "version": 3
      },
      "file_extension": ".py",
      "mimetype": "text/x-python",
      "name": "python",
      "nbconvert_exporter": "python",
      "pygments_lexer": "ipython3",
      "version": "3.9.19"
    }
  },
  "nbformat": 4,
  "nbformat_minor": 5
}