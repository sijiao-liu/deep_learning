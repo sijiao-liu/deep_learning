{
  "cells": [
    {
      "cell_type": "markdown",
      "metadata": {
        "id": "view-in-github",
        "colab_type": "text"
      },
      "source": [
        "<a href=\"https://colab.research.google.com/github/sijiao-liu/deep_learning/blob/lab/01_materials/labs/lab_2.ipynb\" target=\"_parent\"><img src=\"https://colab.research.google.com/assets/colab-badge.svg\" alt=\"Open In Colab\"/></a>"
      ]
    },
    {
      "cell_type": "markdown",
      "metadata": {
        "id": "y7PS-o8HnV5K"
      },
      "source": [
        "# Backpropagation in Multilayer Neural Networks\n",
        "\n",
        "While we will primarily be working with high-level, abstract toolkits like Keras in this course, understanding how backpropagation works is absolutely essential to using neural networks.\n",
        "\n",
        "In this exercise, we will build our own backpropagation algorithm - working through each step, to ensure that we can follow it."
      ]
    },
    {
      "cell_type": "markdown",
      "metadata": {
        "collapsed": false,
        "id": "K7y4kmOunV5M"
      },
      "source": [
        "Just like in Lab 1, we'll be working with the MNIST dataset. We will load it and plot an example:"
      ]
    },
    {
      "cell_type": "code",
      "execution_count": 1,
      "metadata": {
        "id": "eRP3LMcxnV5M"
      },
      "outputs": [],
      "source": [
        "%matplotlib inline\n",
        "import matplotlib.pyplot as plt\n",
        "import numpy as np\n",
        "from sklearn.datasets import load_digits\n",
        "\n",
        "digits = load_digits()"
      ]
    },
    {
      "cell_type": "code",
      "execution_count": 2,
      "metadata": {
        "colab": {
          "base_uri": "https://localhost:8080/",
          "height": 314
        },
        "id": "3xDu7d8HnV5N",
        "outputId": "d2fb5dd2-4820-4b9b-e572-c002a3f93ed3"
      },
      "outputs": [
        {
          "output_type": "display_data",
          "data": {
            "text/plain": [
              "<Figure size 300x300 with 1 Axes>"
            ],
            "image/png": "[encoded data removed]"
          },
          "metadata": {}
        }
      ],
      "source": [
        "# visualize one image\n",
        "sample_index = 45\n",
        "plt.figure(figsize=(3, 3))\n",
        "plt.imshow(digits.images[sample_index], cmap=plt.cm.gray_r,\n",
        "           interpolation='nearest')\n",
        "plt.title(\"image label: %d\" % digits.target[sample_index]);"
      ]
    },
    {
      "cell_type": "markdown",
      "metadata": {
        "id": "ElG7QMOsnV5N"
      },
      "source": [
        "### Preprocessing\n",
        "\n",
        "Of course, we need to split our data into training and testing sets before we use it, just the same as in Lab 1:"
      ]
    },
    {
      "cell_type": "code",
      "execution_count": 3,
      "metadata": {
        "id": "GbVBd3hUnV5N"
      },
      "outputs": [],
      "source": [
        "from sklearn.model_selection import train_test_split\n",
        "\n",
        "data = np.asarray(digits.data, dtype='float32')\n",
        "target = np.asarray(digits.target, dtype='int32')\n",
        "\n",
        "X_train, X_test, y_train, y_test = train_test_split(\n",
        "    data, target, test_size=0.15, random_state=37)"
      ]
    },
    {
      "cell_type": "markdown",
      "metadata": {
        "id": "sbKi4fGznV5O"
      },
      "source": [
        "# Numpy Implementation\n",
        "\n",
        "## a) Logistic Regression\n",
        "\n",
        "In this section we will implement a logistic regression model trainable with SGD using numpy. Here are the objectives:\n",
        "\n",
        "- Implement the softmax function $\\sigma(\\mathbf{x})_i = \\frac{e^{x_i}}{\\sum_{j=1}^n e^{x_j}}$;\n",
        "- Implement the negative log likelihood function $NLL(Y_{true}, Y_{pred}) = - \\sum_{i=1}^{n}{y_{true, i} \\cdot \\log(y_{pred, i})}$;\n",
        "- Train a logistic regression model on the MNIST dataset;\n",
        "- Evaluate the model on the training and testing sets.\n",
        "\n",
        "Before we get there, let's write a function that one-hot encodes the class labels:"
      ]
    },
    {
      "cell_type": "code",
      "execution_count": 4,
      "metadata": {
        "id": "LaK0SHcsnV5O"
      },
      "outputs": [],
      "source": [
        "# This one hot categorization is turning the numerical value into an one hot embedding\n",
        "## where everything is zero, and the one dimension your data belongs to is turning into one, representing this class.\n",
        "def one_hot(n_classes, y):\n",
        "    return np.eye(n_classes)[y]"
      ]
    },
    {
      "cell_type": "code",
      "execution_count": 5,
      "metadata": {
        "colab": {
          "base_uri": "https://localhost:8080/"
        },
        "id": "5bM3kz7BnV5O",
        "outputId": "f2d77fc8-d4ee-4a7f-a3be-88d480b73000"
      },
      "outputs": [
        {
          "output_type": "execute_result",
          "data": {
            "text/plain": [
              "array([0., 0., 0., 1., 0., 0., 0., 0., 0., 0.])"
            ]
          },
          "metadata": {},
          "execution_count": 5
        }
      ],
      "source": [
        "# create one one-hot embedding\n",
        "one_hot(n_classes=10, y=3)"
      ]
    },
    {
      "cell_type": "code",
      "execution_count": 6,
      "metadata": {
        "colab": {
          "base_uri": "https://localhost:8080/"
        },
        "id": "3hjRixRXnV5P",
        "outputId": "d02c9be0-f35b-43eb-c14f-0a308dbfec58"
      },
      "outputs": [
        {
          "output_type": "execute_result",
          "data": {
            "text/plain": [
              "array([[1., 0., 0., 0., 0., 0., 0., 0., 0., 0.],\n",
              "       [0., 0., 0., 0., 1., 0., 0., 0., 0., 0.],\n",
              "       [0., 0., 0., 0., 0., 0., 0., 0., 0., 1.],\n",
              "       [0., 1., 0., 0., 0., 0., 0., 0., 0., 0.]])"
            ]
          },
          "metadata": {},
          "execution_count": 6
        }
      ],
      "source": [
        "# create four one-hot embedding\n",
        "one_hot(n_classes=10, y=[0, 4, 9, 1])"
      ]
    },
    {
      "cell_type": "markdown",
      "metadata": {
        "id": "iHdWdZEfnV5P"
      },
      "source": [
        "### The softmax function\n",
        "\n",
        "Now we will implement the softmax function. Recall that the softmax function is defined as follows:\n",
        "\n",
        "$$\n",
        "softmax(\\mathbf{x}) = \\frac{1}{\\sum_{i=1}^{n}{e^{x_i}}}\n",
        "\\cdot\n",
        "\\begin{bmatrix}\n",
        "  e^{x_1}\\\\\\\\\n",
        "  e^{x_2}\\\\\\\\\n",
        "  \\vdots\\\\\\\\\n",
        "  e^{x_n}\n",
        "\\end{bmatrix}\n",
        "$$\n",
        "\n",
        "This is implemented for you using numpy - we want to be able to apply the softmax function to a batch of samples at once, so we will use numpy's vectorized operations to do so.\n",
        "\n",
        "Our method also handles _stability issues_ that can occur when the values in `X` are very large. We will subtract the maximum value from each row of `X` to avoid overflow in the exponentiation. This isn't part of the softmax function itself, but it's a useful trick to know about."
      ]
    },
    {
      "cell_type": "code",
      "execution_count": 7,
      "metadata": {
        "id": "5HyU2FAgnV5P"
      },
      "outputs": [],
      "source": [
        "# define the softmax function based on the mathematical formula\n",
        "def softmax(X):\n",
        "    # additional component if you work with big numbers\n",
        "    ## if X itself is a very big number, the exponential of X can be huge. So we want to make sure we are shrinking the range of x to certain levels without changing the real value.\n",
        "    #### without changing the order or the numerical relationship among all the values.\n",
        "    X_max = np.max(X, axis=-1, keepdims=True)\n",
        "\n",
        "    # use x - x_max, basically everybody goes down one step based on the x_max so every number now is fairly small compared with the original ones.\n",
        "    ## get the exponential of everybody separately - element wise exponential of the x - x_max\n",
        "    exp = np.exp(X - X_max) # Subtract the max to avoid overflow in the exponentiation\n",
        "\n",
        "    # return the softmax(x) value\n",
        "    return exp / np.sum(exp, axis=-1, keepdims=True)\n"
      ]
    },
    {
      "cell_type": "markdown",
      "metadata": {
        "id": "k7khpaD4nV5P"
      },
      "source": [
        "Let's make sure that this works one vector at a time (and check that the components sum to one):"
      ]
    },
    {
      "cell_type": "code",
      "execution_count": 8,
      "metadata": {
        "colab": {
          "base_uri": "https://localhost:8080/"
        },
        "id": "s5w3Z4oNnV5Q",
        "outputId": "acde9776-869b-4531-d587-37e7750fbc3e"
      },
      "outputs": [
        {
          "output_type": "stream",
          "name": "stdout",
          "text": [
            "[9.99662391e-01 3.35349373e-04 2.25956630e-06]\n"
          ]
        }
      ],
      "source": [
        "print(softmax([10, 2, -3]))"
      ]
    },
    {
      "cell_type": "markdown",
      "metadata": {
        "id": "G9pE346MnV5Q"
      },
      "source": [
        "When we are using our model to make predictions, we will want to be able to make predictions for multiple samples at once.\n",
        "Let's make sure that our implementation of softmax works for a batch of samples:"
      ]
    },
    {
      "cell_type": "code",
      "execution_count": 9,
      "metadata": {
        "colab": {
          "base_uri": "https://localhost:8080/"
        },
        "id": "jTxa2K61nV5Q",
        "outputId": "6d13dfed-dcca-4834-bf7e-d9d2ef8fd27f"
      },
      "outputs": [
        {
          "output_type": "stream",
          "name": "stdout",
          "text": [
            "[[9.99662391e-01 3.35349373e-04 2.25956630e-06]\n",
            " [2.47262316e-03 9.97527377e-01 1.38536042e-11]]\n"
          ]
        }
      ],
      "source": [
        "X = np.array([[10, 2, -3],\n",
        "              [-1, 5, -20]])\n",
        "print(softmax(X))"
      ]
    },
    {
      "cell_type": "markdown",
      "metadata": {
        "id": "VJuShmFDnV5Q"
      },
      "source": [
        "Probabilities should sum to 1:"
      ]
    },
    {
      "cell_type": "code",
      "execution_count": 10,
      "metadata": {
        "colab": {
          "base_uri": "https://localhost:8080/"
        },
        "id": "bBySYjMinV5Q",
        "outputId": "f8777db8-fc89-4cb4-9b8b-beb4f4e8bcc3"
      },
      "outputs": [
        {
          "output_type": "stream",
          "name": "stdout",
          "text": [
            "1.0\n"
          ]
        }
      ],
      "source": [
        "print(np.sum(softmax([10, 2, -3])))"
      ]
    },
    {
      "cell_type": "code",
      "execution_count": 11,
      "metadata": {
        "colab": {
          "base_uri": "https://localhost:8080/"
        },
        "id": "YsMl1-4BnV5R",
        "outputId": "1013bb9c-273c-40a4-fbf6-838f6049d2b4"
      },
      "outputs": [
        {
          "output_type": "stream",
          "name": "stdout",
          "text": [
            "softmax of 2 vectors:\n",
            "[[9.99662391e-01 3.35349373e-04 2.25956630e-06]\n",
            " [2.47262316e-03 9.97527377e-01 1.38536042e-11]]\n"
          ]
        }
      ],
      "source": [
        "print(\"softmax of 2 vectors:\")\n",
        "X = np.array([[10, 2, -3],\n",
        "              [-1, 5, -20]])\n",
        "print(softmax(X))"
      ]
    },
    {
      "cell_type": "markdown",
      "metadata": {
        "id": "0rMoNgIAnV5R"
      },
      "source": [
        "The sum of probabilities for each input vector of logits should some to 1:"
      ]
    },
    {
      "cell_type": "code",
      "execution_count": 12,
      "metadata": {
        "colab": {
          "base_uri": "https://localhost:8080/"
        },
        "id": "MWa4ov4mnV5R",
        "outputId": "6b3b0bc7-88c8-48a4-9bbd-fd84efd0435b"
      },
      "outputs": [
        {
          "output_type": "stream",
          "name": "stdout",
          "text": [
            "[1. 1.]\n"
          ]
        }
      ],
      "source": [
        "print(np.sum(softmax(X), axis=1))"
      ]
    },
    {
      "cell_type": "markdown",
      "metadata": {
        "id": "TMXAPEp1nV5R"
      },
      "source": [
        "Now we will implement a function that, given the true one-hot encoded class `Y_true` and some predicted probabilities `Y_pred`, returns the negative log likelihood.\n",
        "\n",
        "Recall that the negative log likelihood is defined as follows:\n",
        "\n",
        "$$\n",
        "NLL(Y_{true}, Y_{pred}) = - \\sum_{i=1}^{n}{y_{true, i} \\cdot \\log(y_{pred, i})}\n",
        "$$\n",
        "\n",
        "For example, if we have $y_{true} = [1, 0, 0]$ and $y_{pred} = [0.99, 0.01, 0]$, then the negative log likelihood is $- \\log(0.99) \\approx 0.01$."
      ]
    },
    {
      "cell_type": "code",
      "execution_count": 13,
      "metadata": {
        "colab": {
          "base_uri": "https://localhost:8080/"
        },
        "id": "_MxexZRxnV5R",
        "outputId": "7cb8e550-575b-4660-f5a0-109480c9aef4"
      },
      "outputs": [
        {
          "output_type": "stream",
          "name": "stdout",
          "text": [
            "0.01005033585350145\n"
          ]
        }
      ],
      "source": [
        "# define negative log likelihood function, aka loss function or objective function or cross entropy\n",
        "## to evaluate how well we're doing for using our model and how far we are with the ground truth we are trying to get to;\n",
        "#### and used for evaluating the classification performance..\n",
        "def nll(Y_true, Y_pred):\n",
        "    Y_true = np.asarray(Y_true)\n",
        "    Y_pred = np.asarray(Y_pred)\n",
        "\n",
        "    # Ensure Y_pred doesn't have zero probabilities to avoid log(0)\n",
        "    Y_pred = np.clip(Y_pred, 1e-15, 1 - 1e-15)\n",
        "\n",
        "    # Calculate negative log likelihood\n",
        "    loss = -np.sum(Y_true * np.log(Y_pred))\n",
        "    return loss\n",
        "\n",
        "# Make sure that it works for a simple sample at a time\n",
        "print(nll([1, 0, 0], [.99, 0.01, 0]))"
      ]
    },
    {
      "cell_type": "markdown",
      "metadata": {
        "id": "5Ddd6UO6nV5R"
      },
      "source": [
        "We should see a very high value for this negative log likelihood, since the model is very confident that the third class is the correct one, but the true class is the first one:"
      ]
    },
    {
      "cell_type": "code",
      "execution_count": 14,
      "metadata": {
        "colab": {
          "base_uri": "https://localhost:8080/"
        },
        "id": "iTJl_lownV5R",
        "outputId": "0a885c2a-f889-4759-be3e-9edcb6e1bb41"
      },
      "outputs": [
        {
          "output_type": "stream",
          "name": "stdout",
          "text": [
            "4.605170185988091\n"
          ]
        }
      ],
      "source": [
        "print(nll([1, 0, 0], [0.01, 0.01, .98]))"
      ]
    },
    {
      "cell_type": "markdown",
      "metadata": {
        "id": "WhWxRpzOnV5S"
      },
      "source": [
        "Make sure that your implementation can compute the average negative log likelihood of a group of predictions: `Y_pred` and `Y_true` can therefore be past as 2D arrays:"
      ]
    },
    {
      "cell_type": "code",
      "execution_count": 15,
      "metadata": {
        "colab": {
          "base_uri": "https://localhost:8080/"
        },
        "id": "WOUWEo42nV5S",
        "outputId": "19e42c65-2537-4ee6-c0c1-235d6276ec05"
      },
      "outputs": [
        {
          "output_type": "stream",
          "name": "stdout",
          "text": [
            "0.010050335853503449\n"
          ]
        }
      ],
      "source": [
        "# Check that the average NLL of the following 3 almost perfect\n",
        "# predictions is close to 0\n",
        "Y_true = np.array([[0, 1, 0],\n",
        "                   [1, 0, 0],\n",
        "                   [0, 0, 1]])\n",
        "\n",
        "Y_pred = np.array([[0,   1,    0],\n",
        "                   [.99, 0.01, 0],\n",
        "                   [0,   0,    1]])\n",
        "\n",
        "print(nll(Y_true, Y_pred))"
      ]
    },
    {
      "cell_type": "markdown",
      "metadata": {
        "collapsed": false,
        "id": "PX_WRDctnV5S"
      },
      "source": [
        "Now that we have our softmax and negative log likelihood functions, we can implement a logistic regression model.\n",
        "In this section, we have built the model for you, but you will need to complete a few key parts."
      ]
    },
    {
      "cell_type": "code",
      "execution_count": 16,
      "metadata": {
        "id": "ZaCCKoavnV5S"
      },
      "outputs": [],
      "source": [
        "class LogisticRegression:\n",
        "\n",
        "    def __init__(self, input_size, output_size):\n",
        "        # Initialize the weights and biases with random numbers\n",
        "        self.W = np.random.uniform(size=(input_size, output_size),\n",
        "                                   high=0.1, low=-0.1)\n",
        "        self.b = np.random.uniform(size=output_size,\n",
        "                                   high=0.1, low=-0.1)\n",
        "\n",
        "        # Store the input size and output size\n",
        "        self.output_size = output_size\n",
        "        self.input_size = input_size\n",
        "\n",
        "    def forward(self, X):\n",
        "        # Compute the linear combination of the input and weights\n",
        "        Z = np.dot(X, self.W) + self.b\n",
        "\n",
        "        # Return the softmax of the linear combination\n",
        "        return softmax(Z)\n",
        "\n",
        "    def predict(self, X):\n",
        "        # Return the most probable class for each sample in X\n",
        "        if len(X.shape) == 1:\n",
        "            return np.argmax(self.forward(X))\n",
        "        else:\n",
        "            return np.argmax(self.forward(X), axis=1)\n",
        "\n",
        "    def loss(self, X, y):\n",
        "        # Compute the negative log likelihood over the data provided\n",
        "\n",
        "        ## turn numberic target into one_hot notation (the ground truth)\n",
        "        y_true = one_hot(self.output_size, y)\n",
        "\n",
        "        ## call this forward function to get the predictions of the input X\n",
        "        y_pred = self.forward(X)\n",
        "\n",
        "        # Return the loss function\n",
        "        ## compare these two - ground truth and prediction - by calling the NLL function you implemented yourself\n",
        "        return nll(y_true, y_pred)\n",
        "\n",
        "    def grad_loss(self, X, y_true, y_pred):\n",
        "        # Compute the gradient of the loss with respect to W and b for a single sample (X, y_true)\n",
        "        # y_pred is the output of the forward pass\n",
        "\n",
        "        # Gradient with respect to weights\n",
        "        grad_W = np.dot(X.T, (y_pred - y_true))\n",
        "\n",
        "        # Gradient with respect to biases\n",
        "        grad_b = np.sum(y_pred - y_true, axis=0)\n",
        "\n",
        "        # return the gradient of weights and biases\n",
        "        return grad_W, grad_b"
      ]
    },
    {
      "cell_type": "code",
      "execution_count": 17,
      "metadata": {
        "id": "OftI0BfsnV5S"
      },
      "outputs": [],
      "source": [
        "# Build a model and test its forward inference\n",
        "n_features = X_train.shape[1]\n",
        "n_classes = len(np.unique(y_train))\n",
        "# initialize the logistic regression model randomly - just guessing\n",
        "lr = LogisticRegression(n_features, n_classes)"
      ]
    },
    {
      "cell_type": "markdown",
      "metadata": {
        "collapsed": false,
        "id": "QYv_MdFknV5T"
      },
      "source": [
        "We can evaluate the model on an example, visualizing the prediction probabilities:"
      ]
    },
    {
      "cell_type": "code",
      "execution_count": 18,
      "metadata": {
        "colab": {
          "base_uri": "https://localhost:8080/",
          "height": 410
        },
        "id": "aiTOauOxnV5T",
        "outputId": "befa2dc1-f6b0-4a16-8dd6-9a84e3c543f7"
      },
      "outputs": [
        {
          "output_type": "display_data",
          "data": {
            "text/plain": [
              "<Figure size 1000x400 with 2 Axes>"
            ],
            "image/png": "[encoded data removed]"
          },
          "metadata": {}
        }
      ],
      "source": [
        "def plot_prediction(model, sample_idx=0, classes=range(10)):\n",
        "    fig, (ax0, ax1) = plt.subplots(nrows=1, ncols=2, figsize=(10, 4))\n",
        "\n",
        "    ax0.imshow(X_test[sample_idx:sample_idx+1].reshape(8, 8),\n",
        "               cmap=plt.cm.gray_r, interpolation='nearest')\n",
        "    ax0.set_title(\"True image label: %d\" % y_test[sample_idx]);\n",
        "\n",
        "\n",
        "    ax1.bar(classes, one_hot(len(classes), y_test[sample_idx]), label='true')\n",
        "    ax1.bar(classes, model.forward(X_test[sample_idx]), label='prediction', color=\"red\")\n",
        "    ax1.set_xticks(classes)\n",
        "    prediction = model.predict(X_test[sample_idx])\n",
        "    ax1.set_title('Output probabilities (prediction: %d)'\n",
        "                  % prediction)\n",
        "    ax1.set_xlabel('Digit class')\n",
        "    ax1.legend()\n",
        "\n",
        "plot_prediction(lr, sample_idx=0)"
      ]
    },
    {
      "cell_type": "markdown",
      "metadata": {
        "collapsed": false,
        "id": "QvewMWnRnV5T"
      },
      "source": [
        "Now it's time to start training! We will train for a single epoch, and then evaluate the model on the training and testing sets. Read through the following and make sure that you understand what we are doing here."
      ]
    },
    {
      "cell_type": "code",
      "execution_count": 19,
      "metadata": {
        "colab": {
          "base_uri": "https://localhost:8080/"
        },
        "id": "CRJd6di2nV5T",
        "outputId": "512c7316-68e7-4a4d-988f-ae3a12914dac"
      },
      "outputs": [
        {
          "output_type": "stream",
          "name": "stdout",
          "text": [
            "Average NLL over the last 100 samples at step 0: -0\n",
            "Average NLL over the last 100 samples at step 100: 442\n",
            "Average NLL over the last 100 samples at step 200: 202\n",
            "Average NLL over the last 100 samples at step 300: 451\n",
            "Average NLL over the last 100 samples at step 400: 121\n",
            "Average NLL over the last 100 samples at step 500: 185\n",
            "Average NLL over the last 100 samples at step 600: 124\n",
            "Average NLL over the last 100 samples at step 700: 60\n",
            "Average NLL over the last 100 samples at step 800: 59\n",
            "Average NLL over the last 100 samples at step 900: 186\n",
            "Average NLL over the last 100 samples at step 1000: 155\n",
            "Average NLL over the last 100 samples at step 1100: 63\n",
            "Average NLL over the last 100 samples at step 1200: 95\n",
            "Average NLL over the last 100 samples at step 1300: 153\n",
            "Average NLL over the last 100 samples at step 1400: 55\n",
            "Average NLL over the last 100 samples at step 1500: 33\n"
          ]
        }
      ],
      "source": [
        "# initialize the logistic regression\n",
        "lr = LogisticRegression(input_size=X_train.shape[1], output_size=10)\n",
        "\n",
        "# set the learning rate to be 0.01 (default value re: sgd)\n",
        "learning_rate = 0.01\n",
        "\n",
        "# For all the elements inside the extreme model, we're going to get just one single example from it.\n",
        "for i in range(len(X_train)):\n",
        "    # Get the current sample and corresponding label\n",
        "    ## this is where the scholastic gradient descent plays in.\n",
        "    ### So we are, again, playing with a simple case where the batch size we're setting it to one.\n",
        "    x = X_train[i:i+1]  # Reshape to keep the batch dimension\n",
        "    y = y_train[i:i+1]  # Reshape to keep the batch dimension\n",
        "\n",
        "    # Compute the forward pass and the gradient of the loss with respect to W and b\n",
        "    ## For this small batch we're going to forward the input to our logistic regression to get the predicted y.\n",
        "    y_pred = lr.forward(x)\n",
        "    ## calculate the the grading loss of our model with regard of the weights and biases\n",
        "    grad_W, grad_b = lr.grad_loss(x, one_hot(lr.output_size, y), y_pred)\n",
        "\n",
        "    # Update the weights and biases\n",
        "    ## update the weight and bias one step at the opposite step of this value (learning_rate * grad_W (or grad_b)).\n",
        "    lr.W -= learning_rate * grad_W\n",
        "    lr.b -= learning_rate * grad_b\n",
        "\n",
        "    # above give me one iteration of update on one example of our data set.\n",
        "\n",
        "    # Print the average negative log likelihood every 100 steps\n",
        "    ## in order for us to understand how well the model is performing, whenever we hit 100 examples,\n",
        "    ### we're going to print the loss of the data set and then see how well it's performing.\n",
        "    if i % 100 == 0:\n",
        "        avg_nll = lr.loss(X_train[max(0, i-100):i], y_train[max(0, i-100):i])\n",
        "        print(\"Average NLL over the last 100 samples at step %d: %0.f\" % (i, avg_nll))\n"
      ]
    },
    {
      "cell_type": "markdown",
      "metadata": {
        "collapsed": false,
        "id": "ASBpNCkfnV5T"
      },
      "source": [
        "Evaluate the trained model on the first example:"
      ]
    },
    {
      "cell_type": "code",
      "execution_count": 20,
      "metadata": {
        "colab": {
          "base_uri": "https://localhost:8080/",
          "height": 410
        },
        "id": "8xoy9F7-nV5T",
        "outputId": "5632e146-90cb-431a-a761-a45d353bc0a8"
      },
      "outputs": [
        {
          "output_type": "display_data",
          "data": {
            "text/plain": [
              "<Figure size 1000x400 with 2 Axes>"
            ],
            "image/png": "[encoded data removed]"
          },
          "metadata": {}
        }
      ],
      "source": [
        "# plot the result of the current learning\n",
        "plot_prediction(lr, sample_idx=0)\n",
        "\n",
        "# there is no blue values as because they're completely overlap. So our prediction is exactly like what's happening in the ground truth.\n",
        "## So we're doing a pretty good job in training the model."
      ]
    },
    {
      "cell_type": "markdown",
      "metadata": {
        "id": "ZDqfM6DJnV5T"
      },
      "source": [
        "## b) Feedforward Multilayer\n",
        "\n",
        "The objective of this section is to implement the backpropagation algorithm (SGD with the chain rule) on a single layer neural network using the sigmoid activation function.\n",
        "\n",
        "Now it's your turn to\n",
        "\n",
        "- Implement the `sigmoid` and its element-wise derivative `dsigmoid` functions:\n",
        "\n",
        "$$\n",
        "sigmoid(x) = \\frac{1}{1 + e^{-x}}\n",
        "$$\n",
        "\n",
        "$$\n",
        "dsigmoid(x) = sigmoid(x) \\cdot (1 - sigmoid(x))\n",
        "$$\n",
        "\n",
        "Remember that you can use your `sigmoid` function inside your `dsigmoid` function.\n",
        "\n",
        "Just like with our softmax function, we also want to make sure that we don't run into stability issues with our sigmoid function. We will use `np.clip` to ensure that the input to the sigmoid function is not too large or too small."
      ]
    },
    {
      "cell_type": "code",
      "execution_count": 21,
      "metadata": {
        "colab": {
          "base_uri": "https://localhost:8080/",
          "height": 430
        },
        "id": "Pe7-XsScnV5U",
        "outputId": "c1889030-cfc5-4e80-87da-b684cfed9e63"
      },
      "outputs": [
        {
          "output_type": "display_data",
          "data": {
            "text/plain": [
              "<Figure size 640x480 with 1 Axes>"
            ],
            "image/png": "[encoded data removed]"
          },
          "metadata": {}
        }
      ],
      "source": [
        "# define sigmoid function\n",
        "def sigmoid(X):\n",
        "    # Clip X into a range to prevent overflow or underflow\n",
        "    X = np.clip(X, -500, 500) # This ensures that np.exp(X) doesn't overflow\n",
        "    return 1 / (1 + np.exp(-X))\n",
        "\n",
        "# define dsigomoid function - the derivative of sigmoid function\n",
        "def dsigmoid(X):\n",
        "    return sigmoid(X) * (1 - sigmoid(X))\n",
        "\n",
        "\n",
        "x = np.linspace(-5, 5, 100)\n",
        "plt.plot(x, sigmoid(x), label='sigmoid')\n",
        "plt.plot(x, dsigmoid(x), label='dsigmoid')\n",
        "plt.legend(loc='best');"
      ]
    },
    {
      "cell_type": "markdown",
      "metadata": {
        "id": "_jcwkrlInV5U"
      },
      "source": [
        "Now it's your turn to complete the neural network code, so that we can train it on the MNIST dataset.\n",
        "\n",
        "Some parts have been completed for you already. Often, you'll be able to refer back to the code from the previous section to help you complete the code in this section."
      ]
    },
    {
      "cell_type": "code",
      "execution_count": 24,
      "metadata": {
        "id": "vmCbaFvenV5a"
      },
      "outputs": [],
      "source": [
        "# define a neural network with crucial functions\n",
        "class NeuralNet():\n",
        "    \"\"\"MLP with 1 hidden layer with a sigmoid activation\"\"\"\n",
        "\n",
        "    def __init__(self, input_size, hidden_size, output_size):\n",
        "        # Initializes the weights with random numbers\n",
        "        self.W_h = np.random.uniform(size=(input_size, hidden_size),\n",
        "                                     high=0.1, low=-0.1)\n",
        "        self.b_h = np.random.uniform(size=hidden_size,\n",
        "                                     high=0.1, low=-0.1)\n",
        "        self.W_o = np.random.uniform(size=(hidden_size, output_size),\n",
        "                                     high=0.1, low=-0.1)\n",
        "        self.b_o = np.random.uniform(size=output_size,\n",
        "                                     high=0.1, low=-0.1)\n",
        "\n",
        "        # Store the input size, hidden size and output size\n",
        "        self.input_size = input_size\n",
        "        self.hidden_size = hidden_size\n",
        "        self.output_size = output_size\n",
        "\n",
        "\n",
        "    # implement in the details of those two functions in teh forward() function:\n",
        "    ## the forward hidden layer, we are going to do similar to\n",
        "    ### what we have done inside the logic regression.\n",
        "    #### We're doing a linear path of the input - dot product between x and the weight h plus the bias term.\n",
        "    def forward_hidden(self, X):\n",
        "        # Compute the linear combination of the input and weights\n",
        "        self.Z_h = np.dot(X, self.W_h) + self.b_h\n",
        "\n",
        "        # Apply the sigmoid activation function\n",
        "        ## add a sigmoid nonlinear operators on top of the output of this linear operations - self.Z_h.\n",
        "        return sigmoid(self.Z_h)\n",
        "\n",
        "    ## For the forward upward path, we're going to do similar things with a different set of weights instead of WH, BH,\n",
        "    ### we're using WO, BO representing the weights and bias for output layer.\n",
        "    def forward_output(self, H):\n",
        "        # Compute the linear combination of the hidden layer activation and weights\n",
        "        self.Z_o = np.dot(H, self.W_o) + self.b_o\n",
        "\n",
        "        # Apply the sigmoid activation function\n",
        "        ## in order for us to do a softmax,\n",
        "        ### do a classification we're using softmax\n",
        "        #### so we can turn this into a one to ten to the probability distribution\n",
        "        ##### that we want to use for the future comparison.\n",
        "        ## use softmax because the output would be in the probability range that's more intuitively understandable.\n",
        "        return softmax(self.Z_o)\n",
        "\n",
        "\n",
        "    # define the forward function - defines how x is being turned into y\n",
        "    # let's look at how the forward is being implemented. it requires two steps\n",
        "    def forward(self, X):\n",
        "\n",
        "        # Compute the forward activations of the hidden and output layers\n",
        "        ## - calling the two funtions\n",
        "\n",
        "        ## One is we're turning the input into the hidden layer output,\n",
        "        H = self.forward_hidden(X)\n",
        "\n",
        "        ## and then we're using the hidden layer output\n",
        "        ### and give it to the upper layer to get the final output.\n",
        "        Y = self.forward_output(H)\n",
        "\n",
        "        return Y\n",
        "\n",
        "\n",
        "    # define the loss function where we're calculating - the negative log likelihood -\n",
        "    ## how far we are your result is towards the target comparing two sets of results.\n",
        "    ### One is the prediction we're getting by calling the function forward and the ground truths were given.\n",
        "    def loss(self, X, y):\n",
        "        # The original Y is a numerical value, so we need to leverage in the one hot function\n",
        "        ## we implemented to turn this into the same shape for these two comparisons\n",
        "        ### So that's the loss function that we need.\n",
        "        y_pred = one_hot(self.output_size, y)\n",
        "        y_true = self.forward(X)\n",
        "\n",
        "        return nll(y_pred, y_true)\n",
        "\n",
        "\n",
        "    # define the gradient loss function\n",
        "    ## So we know for each of the parameters you're using inside your function,\n",
        "    ### how you're going to update it.\n",
        "    #### how you're going to calculate the derivatives and using this for updating the parameters.\n",
        "    ##### Basically, we're using the chain rule to calculating what should be the loss\n",
        "    ###### with regard of each of the parameters and we're using this to define what is the gradient of each\n",
        "    ####### and then using this to get the final result.\n",
        "    def grad_loss(self, X, y_true):\n",
        "        y_true = one_hot(self.output_size, y_true)\n",
        "        y_pred = self.forward(X)\n",
        "\n",
        "        # Compute the error at the output layer\n",
        "        error_o = y_pred - y_true\n",
        "\n",
        "        # Compute the gradient of the loss with respect to W_o and b_o\n",
        "        grad_W_o = np.dot(self.Z_h.T, error_o)\n",
        "        grad_b_o = np.sum(error_o, axis=0)\n",
        "\n",
        "        # Compute the error at the hidden layer\n",
        "        error_h = np.dot(error_o, self.W_o.T) * dsigmoid(self.Z_h)\n",
        "\n",
        "        # Compute the gradient of the loss with respect to W_h and b_h\n",
        "        grad_W_h = np.dot(X.T, error_h)\n",
        "        grad_b_h = np.sum(error_h, axis=0)\n",
        "\n",
        "        return {\"W_h\": grad_W_h, \"b_h\": grad_b_h, \"W_o\": grad_W_o, \"b_o\": grad_b_o}\n",
        "\n",
        "\n",
        "    # during the training steps\n",
        "    ## We're going to take in one batch of the input so this train is doing the SGD part,\n",
        "    ### taking one batch of the input, using the learning rate you set,\n",
        "    def train(self, x, y, learning_rate):\n",
        "\n",
        "        ## and then do one round of the getting the output of the model\n",
        "        # Ensure x is 2D\n",
        "        x = x[np.newaxis, :]\n",
        "        # Compute the gradient for the sample and update the weights\n",
        "        grads = self.grad_loss(x, y)\n",
        "\n",
        "        ## and updating all the parameters based on the learning rates.\n",
        "        self.W_h -= learning_rate * grads[\"W_h\"]\n",
        "        self.b_h -= learning_rate * grads[\"b_h\"]\n",
        "        self.W_o -= learning_rate * grads[\"W_o\"]\n",
        "        self.b_o -= learning_rate * grads[\"b_o\"]\n",
        "\n",
        "\n",
        "    # the prediction function is just a simple function for us\n",
        "    ## to get the axis that contains the largest probability after a forward pass.\n",
        "    def predict(self, X):\n",
        "        if len(X.shape) == 1:\n",
        "            return np.argmax(self.forward(X))\n",
        "        else:\n",
        "            return np.argmax(self.forward(X), axis=1)\n",
        "\n",
        "\n",
        "    # accuracy is a function that we use to calculating the performance of your entire data set.\n",
        "    def accuracy(self, X, y):\n",
        "        y_preds = np.argmax(self.forward(X), axis=1)\n",
        "        return np.mean(y_preds == y)"
      ]
    },
    {
      "cell_type": "markdown",
      "metadata": {
        "collapsed": false,
        "id": "BdS2fcl9nV5b"
      },
      "source": [
        "Once the code is written, we can test our model on a single sample:"
      ]
    },
    {
      "cell_type": "code",
      "execution_count": 25,
      "metadata": {
        "id": "gmdIgEkDnV5b"
      },
      "outputs": [],
      "source": [
        "n_hidden = 10\n",
        "# randomly initialize the neural network - not trained yet\n",
        "model = NeuralNet(n_features, n_hidden, n_classes)"
      ]
    },
    {
      "cell_type": "code",
      "execution_count": 26,
      "metadata": {
        "colab": {
          "base_uri": "https://localhost:8080/"
        },
        "id": "iLTGjAPgnV5b",
        "outputId": "fbbbb3cc-a621-4efc-d9fc-573f795b03ea"
      },
      "outputs": [
        {
          "output_type": "execute_result",
          "data": {
            "text/plain": [
              "3536.5218473413943"
            ]
          },
          "metadata": {},
          "execution_count": 26
        }
      ],
      "source": [
        "model.loss(X_train, y_train)"
      ]
    },
    {
      "cell_type": "code",
      "execution_count": 27,
      "metadata": {
        "colab": {
          "base_uri": "https://localhost:8080/"
        },
        "id": "qJtJLu9FnV5b",
        "outputId": "49ad0f02-faad-4a3a-b7aa-c31433e2b314"
      },
      "outputs": [
        {
          "output_type": "execute_result",
          "data": {
            "text/plain": [
              "0.08447937131630648"
            ]
          },
          "metadata": {},
          "execution_count": 27
        }
      ],
      "source": [
        "model.accuracy(X_train, y_train)"
      ]
    },
    {
      "cell_type": "code",
      "execution_count": 28,
      "metadata": {
        "colab": {
          "base_uri": "https://localhost:8080/",
          "height": 410
        },
        "id": "jBUQawdmnV5c",
        "outputId": "2658507e-8872-4f95-d580-8e561e366c18"
      },
      "outputs": [
        {
          "output_type": "display_data",
          "data": {
            "text/plain": [
              "<Figure size 1000x400 with 2 Axes>"
            ],
            "image/png": "[encoded data removed]"
          },
          "metadata": {}
        }
      ],
      "source": [
        "plot_prediction(model, sample_idx=5)"
      ]
    },
    {
      "cell_type": "markdown",
      "metadata": {
        "collapsed": false,
        "id": "yioYsUiXnV5c"
      },
      "source": [
        "And now it's time to train!"
      ]
    },
    {
      "cell_type": "code",
      "execution_count": 29,
      "metadata": {
        "colab": {
          "base_uri": "https://localhost:8080/"
        },
        "id": "_V-_qWOmnV5c",
        "outputId": "6a5d5a33-684a-4a59-bfa9-9ced0da5af02"
      },
      "outputs": [
        {
          "output_type": "stream",
          "name": "stdout",
          "text": [
            "Random init: train loss: 3536.52185, train acc: 0.084, test acc: 0.089\n",
            "Epoch #1, train loss: 2871.13572, train acc: 0.456, test acc: 0.474\n",
            "Epoch #2, train loss: 2085.47422, train acc: 0.724, test acc: 0.722\n",
            "Epoch #3, train loss: 1483.57424, train acc: 0.853, test acc: 0.841\n",
            "Epoch #4, train loss: 1077.44914, train acc: 0.898, test acc: 0.874\n",
            "Epoch #5, train loss: 818.59430, train acc: 0.925, test acc: 0.907\n",
            "Epoch #6, train loss: 653.26426, train acc: 0.936, test acc: 0.926\n",
            "Epoch #7, train loss: 543.07456, train acc: 0.949, test acc: 0.930\n",
            "Epoch #8, train loss: 465.98344, train acc: 0.955, test acc: 0.944\n",
            "Epoch #9, train loss: 411.93086, train acc: 0.959, test acc: 0.937\n",
            "Epoch #10, train loss: 370.91635, train acc: 0.963, test acc: 0.937\n",
            "Epoch #11, train loss: 338.18622, train acc: 0.965, test acc: 0.941\n",
            "Epoch #12, train loss: 311.87889, train acc: 0.969, test acc: 0.941\n",
            "Epoch #13, train loss: 290.48746, train acc: 0.969, test acc: 0.941\n",
            "Epoch #14, train loss: 272.67000, train acc: 0.972, test acc: 0.937\n",
            "Epoch #15, train loss: 257.40582, train acc: 0.974, test acc: 0.937\n"
          ]
        }
      ],
      "source": [
        "# train the neural network\n",
        "losses, accuracies, accuracies_test = [], [], []\n",
        "losses.append(model.loss(X_train, y_train))\n",
        "accuracies.append(model.accuracy(X_train, y_train))\n",
        "accuracies_test.append(model.accuracy(X_test, y_test))\n",
        "\n",
        "print(\"Random init: train loss: %0.5f, train acc: %0.3f, test acc: %0.3f\"\n",
        "      % (losses[-1], accuracies[-1], accuracies_test[-1]))\n",
        "\n",
        "\n",
        "# initiate the training on top of the data with 15 different epochs.\n",
        "for epoch in range(15):\n",
        "    for i, (x, y) in enumerate(zip(X_train, y_train)):\n",
        "        # then for each of the time, we're going to do a small update of the model\n",
        "        ## based on just one example from the entire data set.\n",
        "        model.train(x, y, 0.001)\n",
        "\n",
        "    losses.append(model.loss(X_train, y_train))\n",
        "    accuracies.append(model.accuracy(X_train, y_train))\n",
        "    accuracies_test.append(model.accuracy(X_test, y_test))\n",
        "\n",
        "\n",
        "    # at the end of each epoch, once we finish going through all the examples,\n",
        "    ## once we're printing model performance and see if things are getting better\n",
        "    print(\"Epoch #%d, train loss: %0.5f, train acc: %0.3f, test acc: %0.3f\"\n",
        "          % (epoch + 1, losses[-1], accuracies[-1], accuracies_test[-1]))"
      ]
    },
    {
      "cell_type": "code",
      "execution_count": 30,
      "metadata": {
        "colab": {
          "base_uri": "https://localhost:8080/",
          "height": 452
        },
        "id": "BesxwCNTnV5c",
        "outputId": "285af963-5cc6-45ff-8067-a6e29a5ca10a"
      },
      "outputs": [
        {
          "output_type": "display_data",
          "data": {
            "text/plain": [
              "<Figure size 640x480 with 1 Axes>"
            ],
            "image/png": "[encoded data removed]"
          },
          "metadata": {}
        }
      ],
      "source": [
        "plt.plot(losses)\n",
        "plt.title(\"Training loss\");\n",
        "\n",
        "# So if you're printing the training loss, you should be able to see that after each epochs, your training loss is going pretty small\n",
        "## Going down and this seems like there's still a little bit of room to go down, but very little left.\n",
        "### So things are doing pretty well in that sense."
      ]
    },
    {
      "cell_type": "code",
      "execution_count": 31,
      "metadata": {
        "colab": {
          "base_uri": "https://localhost:8080/",
          "height": 430
        },
        "id": "n9AgN4lSnV5c",
        "outputId": "efbc20aa-57e8-42fd-dedf-99b63873d439"
      },
      "outputs": [
        {
          "output_type": "display_data",
          "data": {
            "text/plain": [
              "<Figure size 640x480 with 1 Axes>"
            ],
            "image/png": "[encoded data removed]"
          },
          "metadata": {}
        }
      ],
      "source": [
        "plt.plot(accuracies, label='train')\n",
        "plt.plot(accuracies_test, label='test')\n",
        "plt.ylim(0, 1.1)\n",
        "plt.ylabel(\"accuracy\")\n",
        "plt.legend(loc='best');\n",
        "\n",
        "# printing the result of the training set and the test set.\n",
        "## So what we're trying to do here is in some ways trying to understand if our model is overfitting or not.\n",
        "### So ideally, you should be able to see that your model is still performing well on test set.\n",
        "#### But if you see a big drop of the test set performance and the training side is still going up, then probably means that your model is overfitting.\n"
      ]
    },
    {
      "cell_type": "code",
      "execution_count": 32,
      "metadata": {
        "colab": {
          "base_uri": "https://localhost:8080/",
          "height": 410
        },
        "id": "iM4T4P1WnV5c",
        "outputId": "89bcc54c-cce6-4a5e-d5a2-ae149975d0e7"
      },
      "outputs": [
        {
          "output_type": "display_data",
          "data": {
            "text/plain": [
              "<Figure size 1000x400 with 2 Axes>"
            ],
            "image/png": "[encoded data removed]"
          },
          "metadata": {}
        }
      ],
      "source": [
        "plot_prediction(model, sample_idx=4)"
      ]
    },
    {
      "cell_type": "markdown",
      "metadata": {
        "id": "ezAEavyZnV5d"
      },
      "source": [
        "## c) Exercises\n",
        "\n",
        "### Look at worst prediction errors\n",
        "\n",
        "- Use numpy to find test samples for which the model made the worst predictions,\n",
        "- Use the `plot_prediction` to look at the model predictions on those,\n",
        "- Would you have done any better?"
      ]
    },
    {
      "cell_type": "code",
      "execution_count": 34,
      "metadata": {
        "colab": {
          "base_uri": "https://localhost:8080/",
          "height": 410
        },
        "id": "Lfx_SBBcnV5d",
        "outputId": "cc9344a9-b2cb-443a-b26e-8c343d0247a2"
      },
      "outputs": [
        {
          "output_type": "display_data",
          "data": {
            "text/plain": [
              "<Figure size 1000x400 with 2 Axes>"
            ],
            "image/png": "[encoded data removed]"
          },
          "metadata": {}
        }
      ],
      "source": [
        "# how to find the worst cases\n",
        "## and then looking at what's the original input and why the model is making that wrong case - making that the wrong prediction?\n",
        "\n",
        "# Get the model's predictions of y on the test set\n",
        "y_pred = model.predict(X_test)\n",
        "\n",
        "# Find the indices of the samples where the model's prediction was wrong\n",
        "## get all the cases that the prediction doesn't equal to the ground truth.\n",
        "wrong_indices = np.where(y_pred != y_test)[0]\n",
        "\n",
        "# For each wrong prediction, get the model's confidence of that run class in its prediction\n",
        "## If the model is extremely confident about the wrong prediction means that\n",
        "### they're being very far away from the correct answer and that should be something that we avoid doing.\n",
        "## for each of the round prediction, we're getting the model confidence of the prediction.\n",
        "### np.max() is the class it predicted to be.\n",
        "confidences = np.max(model.forward(X_test[wrong_indices]), axis=1)\n",
        "\n",
        "# Find the index of the sample where the model was most confident but wrong\n",
        "## find the cases where they're most confident about this one class using np.argmax()\n",
        "### and they're getting that the index of that example and then plot this example\n",
        "worst_index = wrong_indices[np.argmax(confidences)]\n",
        "\n",
        "# Use the 'plot_prediction' function to look at the model's prediction on this sample\n",
        "plot_prediction(model, sample_idx=worst_index)\n"
      ]
    },
    {
      "cell_type": "markdown",
      "metadata": {
        "id": "CFvLvZ-GnV5d"
      },
      "source": [
        "### Hyper parameters settings\n",
        "\n",
        "- Experiment with different hyperparameters:\n",
        "  - learning rate,\n",
        "  - size of hidden layer,\n",
        "  - implement the support for a second hidden layer.\n",
        "  - What is the best test accuracy you can get?"
      ]
    },
    {
      "cell_type": "markdown",
      "source": [
        "hyperparameters are not the parameters inside the model itself, like not the zeta that we've been talking about the whole time.  \n",
        "It is the parameters that were used for defining our models or used for defining our training and updating strategies, like some of the common ones is like the learning rate we're using, the batch size we're using.  \n",
        "How many hidden layers we're going to concatenating for generating the for construct the entire network, how wide each of the layers that you want your hidden layer to be - whether it's 64 or 32.?"
      ],
      "metadata": {
        "id": "tUPcUCqtNP9K"
      }
    },
    {
      "cell_type": "code",
      "execution_count": 36,
      "metadata": {
        "colab": {
          "base_uri": "https://localhost:8080/"
        },
        "id": "l-43qpCWnV5d",
        "outputId": "819728a7-6eff-4ede-d049-c3025a013642"
      },
      "outputs": [
        {
          "output_type": "stream",
          "name": "stdout",
          "text": [
            "Best test accuracy: 0.9703703703703703\n"
          ]
        }
      ],
      "source": [
        "# Define the hyperparameters to try\n",
        "learning_rates = [0.001, 0.01, 0.1]\n",
        "hidden_sizes = [10, 50, 100]\n",
        "\n",
        "# Initialize the best accuracy to 0\n",
        "best_accuracy = 0\n",
        "\n",
        "# For each combination of hyperparameters\n",
        "for learning_rate in learning_rates:\n",
        "    for hidden_size in hidden_sizes:\n",
        "        # Create and train a new model\n",
        "        model = NeuralNet(n_features, hidden_size, n_classes)\n",
        "        for epoch in range(15):\n",
        "            for i, (x,y) in enumerate (zip(X_train, y_train)):\n",
        "                model.train(x, y, learning_rate)\n",
        "\n",
        "        # Calculate the model's accuracy on the test set\n",
        "        accuracy = model.accuracy(X_test, y_test)\n",
        "\n",
        "        # If this model is better than the previous best model, update the best model and best accuracy\n",
        "        if accuracy > best_accuracy:\n",
        "            best_model = model\n",
        "            best_accuracy = accuracy\n",
        "\n",
        "\n",
        "# Print the best accuracy\n",
        "print(\"Best test accuracy:\", best_accuracy)\n",
        "\n",
        "\n",
        "# Output:\n",
        "# Best test accuracy: 0.9703703703703703"
      ]
    }
  ],
  "metadata": {
    "kernelspec": {
      "display_name": "Python 3 (ipykernel)",
      "language": "python",
      "name": "python3"
    },
    "language_info": {
      "codemirror_mode": {
        "name": "ipython",
        "version": 3
      },
      "file_extension": ".py",
      "mimetype": "text/x-python",
      "name": "python",
      "nbconvert_exporter": "python",
      "pygments_lexer": "ipython3",
      "version": "3.11.8"
    },
    "colab": {
      "provenance": [],
      "include_colab_link": true
    }
  },
  "nbformat": 4,
  "nbformat_minor": 0
}